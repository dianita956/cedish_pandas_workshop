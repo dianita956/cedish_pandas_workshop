{
 "cells": [
  {
   "cell_type": "markdown",
   "id": "c7596b4b",
   "metadata": {},
   "source": [
    "# Introduction to Python: working with tabluar data\n",
    "## workshop facilitator: Diane López, Information Specialist\n",
    "### April 16, 2026"
   ]
  },
  {
   "cell_type": "markdown",
   "id": "3d85b138",
   "metadata": {},
   "source": [
    "#### agenda: \n",
    "- introduction to pandas \n",
    "- quick start\n",
    "- series \n",
    "- dataframe\n",
    "- clean and moving "
   ]
  },
  {
   "cell_type": "markdown",
   "id": "3e4f367b",
   "metadata": {},
   "source": [
    "<h3>What's Inside Pandas</h3>\n",
    "\n",
    "| Pandas Dependency  | Required Version | Installed Version | Description |\n",
    "|--------------------|------------------|-------------------|-------------|\n",
    "| numpy              | >=1.23.2         | 2.2.4             | Supports large, multi-dimensional arrays and matrices, along with a large collection of high-level mathematical functions to operate on these arrays. |\n",
    "| python-dateutil    | >=2.8.2          | 2.9.0.post0       | Provides powerful extensions to the standard Python <code>datetime</code> module. |\n",
    "| six                | >=1.5            | 1.17.0            | A Python 2 and 3 compatibility library. |\n",
    "| pytz               | >=2020.1         | 2025.2            | Provides world timezone definitions, both modern and historical. |\n",
    "| tzdata             | >=2022.7         | 2025.2            | A Python package containing zic-compiled binaries for timezone data used in timezone-aware datetime operations. |\n"
   ]
  },
  {
   "cell_type": "markdown",
   "id": "3bc8d854",
   "metadata": {},
   "source": [
    "<h3> Things to Know About Pandas </h3>\n",
    "\n",
    "<p> To use Pandas, start by importing the package:</p>\n",
    "<pre><code>import pandas as pd</code></pre>\n",
    "<sub>(<code>pd</code> is a common alias for Pandas. It makes writing and calling Pandas functions easier—and from experience, it helps avoid misspellings!)</sub>\n",
    "\n",
    "<p> Key concepts in Pandas:</p>\n",
    "<ul>\n",
    "    <li><strong>DataFrame:</strong> A table of data stored in a 2-dimensional structure, where rows and columns are labeled.</li>\n",
    "    <li><strong>Series:</strong> Each column in a <code>DataFrame</code> is a <code>Series</code>, which is a one-dimensional array-like structure.</li>\n",
    "</ul>\n",
    "\n",
    "<p> You can manipulate and analyze data by applying methods to a <code>DataFrame</code> or a <code>Series</code>. "
   ]
  },
  {
   "cell_type": "markdown",
   "id": "e5848674",
   "metadata": {},
   "source": [
    "<p> <em><strong>Run the line below if working in Jupyter NoteBook or Google CoLab to install the package</strong></em></p>\n",
    "<p><em>just in case</em></p>"
   ]
  },
  {
   "cell_type": "code",
   "execution_count": 57,
   "id": "8a8e4d4d",
   "metadata": {},
   "outputs": [],
   "source": [
    "#$ pip install pandas #delete the # before the $ before running install"
   ]
  },
  {
   "cell_type": "markdown",
   "id": "e8b4be45",
   "metadata": {},
   "source": [
    "<h3>Let's Get Started — and Remember to Import Pandas!</h3>"
   ]
  },
  {
   "cell_type": "code",
   "execution_count": 58,
   "id": "0bcc7c33",
   "metadata": {},
   "outputs": [],
   "source": [
    "import pandas as pd\n",
    "import matplotlib.pyplot as plt"
   ]
  },
  {
   "cell_type": "markdown",
   "id": "dc06bae2",
   "metadata": {},
   "source": [
    "<h2> Getting Started with Pandas DataFrame </h2>\n",
    "<p>To manually store data in a table, create a <code>DataFrame</code>. When using a Python dictionary of lists, the dictionary keys become the column headers, and the values in each list represent the data for each column of the <code>DataFrame</code>.</p>\n",
    "\n",
    "<h4> What is a DataFrame? </h4>\n",
    "\n",
    "- A 2-dimensional data structure\n",
    "\n",
    "    - Can store multiple data types:\n",
    "\n",
    "        - Strings (text)\n",
    "        - Integers\n",
    "        - Floating point values\n",
    "        - Categorical data\n",
    "\n",
    "<p> Each <strong>column</strong> in a <code>DataFrame</code> is a <code>Series</code> </p>"
   ]
  },
  {
   "cell_type": "markdown",
   "id": "4f458dfd",
   "metadata": {},
   "source": [
    "<h4> Manually creating a <code>DataFrame</code> from scratch:</h4>\n",
    "\n",
    "1. Name the DataFrame.\n",
    "\n",
    "2. Define a dictionary where:\n",
    "\n",
    "    - Each key is a column name.\n",
    "\n",
    "    - Each value is a list of cell values for that column.\n",
    "\n",
    "    - Use <code>{ }</code> curly braces to define a dictionary.\n",
    "\n",
    "    - Use <code>[ ]</code> square brackets to define a list.\n"
   ]
  },
  {
   "cell_type": "markdown",
   "id": "13df3ca5",
   "metadata": {},
   "source": [
    "<h3>structure and syntax </h3>\n",
    "<pre><code>\n",
    "DataFrame_label = ({\n",
    "    \"column1\": [\n",
    "        \"cell 1.1\", \n",
    "        \"cell 1.2\", \n",
    "        \"cell 1.3\"\n",
    "    ],\n",
    "    \"column2 label\": [\n",
    "        \"cell value2.1\", \n",
    "        \"cell value2.2\", \n",
    "        \"cell value2.3\"\n",
    "    ],\n",
    "    \"column3 label\": [\n",
    "        \"cell value3.1\", \n",
    "        \"cell value3.2\", \n",
    "        \"cell value3.3\"\n",
    "    ]\n",
    "})\n",
    "\n",
    "DataFrame_label\n",
    "</code></pre>"
   ]
  },
  {
   "cell_type": "markdown",
   "id": "9c68f8ee",
   "metadata": {},
   "source": [
    "<h3>Quick and Dirty Example</h3>\n",
    "\n",
    "<p>In this example, I'm creating a <code>DataFrame</code> to keep track of attendee counts for the workshops we've hosted.</p>\n",
    "\n",
    "<p>I start by naming the <code>DataFrame</code> as <code>pythonWs_df</code>.</p>\n",
    "\n",
    "<p>Then, I call the function to create the <code>DataFrame</code> using <code>pd.DataFrame()</code>.</p>\n",
    "\n",
    "<p>Inside the parentheses <code>()</code>, I begin creating the dictionary using curly braces <code>{}</code>.</p>\n",
    "\n",
    "<p>For example: <code>({ dictionary })</code>. Next, I define the labels for the columns, like <code>\"Workshops\":</code></p>\n",
    "\n",
    "<p>To add values for each <code>Series</code> (each column), I use square brackets <code>[]</code> to create a list of values.</p>\n",
    "\n",
    "<p>Once that's done, I can run the cell to generate the table.</p>\n"
   ]
  },
  {
   "cell_type": "code",
   "execution_count": 59,
   "id": "65977a1d",
   "metadata": {},
   "outputs": [
    {
     "data": {
      "text/html": [
       "<div>\n",
       "<style scoped>\n",
       "    .dataframe tbody tr th:only-of-type {\n",
       "        vertical-align: middle;\n",
       "    }\n",
       "\n",
       "    .dataframe tbody tr th {\n",
       "        vertical-align: top;\n",
       "    }\n",
       "\n",
       "    .dataframe thead th {\n",
       "        text-align: right;\n",
       "    }\n",
       "</style>\n",
       "<table border=\"1\" class=\"dataframe\">\n",
       "  <thead>\n",
       "    <tr style=\"text-align: right;\">\n",
       "      <th></th>\n",
       "      <th>Workshop</th>\n",
       "      <th>Date</th>\n",
       "      <th>Attendees Numbers</th>\n",
       "    </tr>\n",
       "  </thead>\n",
       "  <tbody>\n",
       "    <tr>\n",
       "      <th>0</th>\n",
       "      <td>Intro to Python Part A</td>\n",
       "      <td>February 2</td>\n",
       "      <td>15.0</td>\n",
       "    </tr>\n",
       "    <tr>\n",
       "      <th>1</th>\n",
       "      <td>Intro to Python Part B</td>\n",
       "      <td>February 26</td>\n",
       "      <td>18.0</td>\n",
       "    </tr>\n",
       "    <tr>\n",
       "      <th>2</th>\n",
       "      <td>Intro to Text Analysis Part A</td>\n",
       "      <td>March 19</td>\n",
       "      <td>22.0</td>\n",
       "    </tr>\n",
       "    <tr>\n",
       "      <th>3</th>\n",
       "      <td>Intro to Text Analysis Part B</td>\n",
       "      <td>April 2</td>\n",
       "      <td>18.0</td>\n",
       "    </tr>\n",
       "    <tr>\n",
       "      <th>4</th>\n",
       "      <td>Tabular Data with Python, Part I:</td>\n",
       "      <td>April 16</td>\n",
       "      <td>NaN</td>\n",
       "    </tr>\n",
       "    <tr>\n",
       "      <th>5</th>\n",
       "      <td>Tabular Data with Python, Part II:</td>\n",
       "      <td>April 28</td>\n",
       "      <td>NaN</td>\n",
       "    </tr>\n",
       "  </tbody>\n",
       "</table>\n",
       "</div>"
      ],
      "text/plain": [
       "                             Workshop         Date  Attendees Numbers\n",
       "0              Intro to Python Part A   February 2               15.0\n",
       "1              Intro to Python Part B  February 26               18.0\n",
       "2       Intro to Text Analysis Part A     March 19               22.0\n",
       "3       Intro to Text Analysis Part B      April 2               18.0\n",
       "4   Tabular Data with Python, Part I:     April 16                NaN\n",
       "5  Tabular Data with Python, Part II:     April 28                NaN"
      ]
     },
     "execution_count": 59,
     "metadata": {},
     "output_type": "execute_result"
    }
   ],
   "source": [
    "pythonWs_df = pd.DataFrame (\n",
    "    { # creating a dictionary with three list of Workshop, Date, and Attendees Numbers which are the column labels \n",
    "        \"Workshop\": [ # the values within the cells are contain in list \n",
    "            \"Intro to Python Part A\",\n",
    "            \"Intro to Python Part B\",\n",
    "            \"Intro to Text Analysis Part A\",\n",
    "            \"Intro to Text Analysis Part B\",\n",
    "            \"Tabular Data with Python, Part I:\",\n",
    "            \"Tabular Data with Python, Part II:\",\n",
    "        ],\n",
    "        \"Date\": [\n",
    "            \"February 2\",\n",
    "            \"February 26\",\n",
    "            \"March 19\", \n",
    "            \"April 2\",\n",
    "            \"April 16\",\n",
    "            \"April 28\",\n",
    "        ],\n",
    "        \"Attendees Numbers\": [\n",
    "            15, \n",
    "            18, \n",
    "            22, \n",
    "            18,\n",
    "            'NaN',\n",
    "            'NaN',\n",
    "        ],\n",
    "    }\n",
    ")\n",
    "\n",
    "# Convert the \"Attendees Numbers\" column to numeric, coercing errors to NaN\n",
    "pythonWs_df[\"Attendees Numbers\"] = pd.to_numeric(pythonWs_df[\"Attendees Numbers\"], errors='coerce')\n",
    "\n",
    "pythonWs_df"
   ]
  },
  {
   "cell_type": "markdown",
   "id": "3afbce90",
   "metadata": {},
   "source": [
    "<h4>How to Explore the DataFrame</h4>\n",
    "\n",
    "<p>Take time to understand your data by using <code>.dtypes</code> to check the data types of each column in the <code>DataFrame</code>.</p>\n",
    "<p>This helps you verify whether columns are stored as strings, integers, floats, or other types—so you can clean or transform them if needed.</p>\n",
    "\n"
   ]
  },
  {
   "cell_type": "code",
   "execution_count": 60,
   "id": "8e9deb43",
   "metadata": {},
   "outputs": [
    {
     "data": {
      "text/plain": [
       "Workshop              object\n",
       "Date                  object\n",
       "Attendees Numbers    float64\n",
       "dtype: object"
      ]
     },
     "execution_count": 60,
     "metadata": {},
     "output_type": "execute_result"
    }
   ],
   "source": [
    "pythonWs_df.dtypes"
   ]
  },
  {
   "cell_type": "markdown",
   "id": "1e948075",
   "metadata": {},
   "source": [
    "<h5> More tools to explore the DataFrame</h5>\n",
    "<ul> \n",
    "<li><code>.info(),</code></li>\n",
    "<li><code>.describe(),</code></li>\n",
    "<li><code>.head()</code></li>\n",
    "</ul>"
   ]
  },
  {
   "cell_type": "markdown",
   "id": "a846b23e",
   "metadata": {},
   "source": [
    "<h5>The <code>.info()</code> Function</h5>\n",
    "<p>The <code>.info()</code> function provides a summary of the structure of a DataFrame.</p>"
   ]
  },
  {
   "cell_type": "code",
   "execution_count": 61,
   "id": "872eca98",
   "metadata": {},
   "outputs": [
    {
     "name": "stdout",
     "output_type": "stream",
     "text": [
      "<class 'pandas.core.frame.DataFrame'>\n",
      "RangeIndex: 6 entries, 0 to 5\n",
      "Data columns (total 3 columns):\n",
      " #   Column             Non-Null Count  Dtype  \n",
      "---  ------             --------------  -----  \n",
      " 0   Workshop           6 non-null      object \n",
      " 1   Date               6 non-null      object \n",
      " 2   Attendees Numbers  4 non-null      float64\n",
      "dtypes: float64(1), object(2)\n",
      "memory usage: 276.0+ bytes\n"
     ]
    }
   ],
   "source": [
    "pythonWs_df.info()"
   ]
  },
  {
   "cell_type": "markdown",
   "id": "4afd512f",
   "metadata": {},
   "source": [
    "<h5>The <code>.describe()</code> Function</h5>\n",
    "<p>The <code>.describe()</code> function provides a descriptive statistical analysis of the DataFrame.</p>"
   ]
  },
  {
   "cell_type": "code",
   "execution_count": 62,
   "id": "f0df1526",
   "metadata": {},
   "outputs": [
    {
     "data": {
      "text/html": [
       "<div>\n",
       "<style scoped>\n",
       "    .dataframe tbody tr th:only-of-type {\n",
       "        vertical-align: middle;\n",
       "    }\n",
       "\n",
       "    .dataframe tbody tr th {\n",
       "        vertical-align: top;\n",
       "    }\n",
       "\n",
       "    .dataframe thead th {\n",
       "        text-align: right;\n",
       "    }\n",
       "</style>\n",
       "<table border=\"1\" class=\"dataframe\">\n",
       "  <thead>\n",
       "    <tr style=\"text-align: right;\">\n",
       "      <th></th>\n",
       "      <th>Attendees Numbers</th>\n",
       "    </tr>\n",
       "  </thead>\n",
       "  <tbody>\n",
       "    <tr>\n",
       "      <th>count</th>\n",
       "      <td>4.000000</td>\n",
       "    </tr>\n",
       "    <tr>\n",
       "      <th>mean</th>\n",
       "      <td>18.250000</td>\n",
       "    </tr>\n",
       "    <tr>\n",
       "      <th>std</th>\n",
       "      <td>2.872281</td>\n",
       "    </tr>\n",
       "    <tr>\n",
       "      <th>min</th>\n",
       "      <td>15.000000</td>\n",
       "    </tr>\n",
       "    <tr>\n",
       "      <th>25%</th>\n",
       "      <td>17.250000</td>\n",
       "    </tr>\n",
       "    <tr>\n",
       "      <th>50%</th>\n",
       "      <td>18.000000</td>\n",
       "    </tr>\n",
       "    <tr>\n",
       "      <th>75%</th>\n",
       "      <td>19.000000</td>\n",
       "    </tr>\n",
       "    <tr>\n",
       "      <th>max</th>\n",
       "      <td>22.000000</td>\n",
       "    </tr>\n",
       "  </tbody>\n",
       "</table>\n",
       "</div>"
      ],
      "text/plain": [
       "       Attendees Numbers\n",
       "count           4.000000\n",
       "mean           18.250000\n",
       "std             2.872281\n",
       "min            15.000000\n",
       "25%            17.250000\n",
       "50%            18.000000\n",
       "75%            19.000000\n",
       "max            22.000000"
      ]
     },
     "execution_count": 62,
     "metadata": {},
     "output_type": "execute_result"
    }
   ],
   "source": [
    "pythonWs_df.describe()"
   ]
  },
  {
   "cell_type": "markdown",
   "id": "3492315a",
   "metadata": {},
   "source": [
    "<h5>The <code>.head()</code> Function</h5>\n",
    "<p>The <code>.head()</code> function returns the first <em> n rows</em></p>\n",
    "<p>The syntax: <code>DataFrame.head(n=5)</code> default is the first five rows.</p>\n",
    "<p>But if you want the <strong>last n rows</strong>"
   ]
  },
  {
   "cell_type": "code",
   "execution_count": 63,
   "id": "16e05d5f",
   "metadata": {},
   "outputs": [
    {
     "data": {
      "text/html": [
       "<div>\n",
       "<style scoped>\n",
       "    .dataframe tbody tr th:only-of-type {\n",
       "        vertical-align: middle;\n",
       "    }\n",
       "\n",
       "    .dataframe tbody tr th {\n",
       "        vertical-align: top;\n",
       "    }\n",
       "\n",
       "    .dataframe thead th {\n",
       "        text-align: right;\n",
       "    }\n",
       "</style>\n",
       "<table border=\"1\" class=\"dataframe\">\n",
       "  <thead>\n",
       "    <tr style=\"text-align: right;\">\n",
       "      <th></th>\n",
       "      <th>Workshop</th>\n",
       "      <th>Date</th>\n",
       "      <th>Attendees Numbers</th>\n",
       "    </tr>\n",
       "  </thead>\n",
       "  <tbody>\n",
       "    <tr>\n",
       "      <th>0</th>\n",
       "      <td>Intro to Python Part A</td>\n",
       "      <td>February 2</td>\n",
       "      <td>15.0</td>\n",
       "    </tr>\n",
       "    <tr>\n",
       "      <th>1</th>\n",
       "      <td>Intro to Python Part B</td>\n",
       "      <td>February 26</td>\n",
       "      <td>18.0</td>\n",
       "    </tr>\n",
       "    <tr>\n",
       "      <th>2</th>\n",
       "      <td>Intro to Text Analysis Part A</td>\n",
       "      <td>March 19</td>\n",
       "      <td>22.0</td>\n",
       "    </tr>\n",
       "    <tr>\n",
       "      <th>3</th>\n",
       "      <td>Intro to Text Analysis Part B</td>\n",
       "      <td>April 2</td>\n",
       "      <td>18.0</td>\n",
       "    </tr>\n",
       "    <tr>\n",
       "      <th>4</th>\n",
       "      <td>Tabular Data with Python, Part I:</td>\n",
       "      <td>April 16</td>\n",
       "      <td>NaN</td>\n",
       "    </tr>\n",
       "  </tbody>\n",
       "</table>\n",
       "</div>"
      ],
      "text/plain": [
       "                            Workshop         Date  Attendees Numbers\n",
       "0             Intro to Python Part A   February 2               15.0\n",
       "1             Intro to Python Part B  February 26               18.0\n",
       "2      Intro to Text Analysis Part A     March 19               22.0\n",
       "3      Intro to Text Analysis Part B      April 2               18.0\n",
       "4  Tabular Data with Python, Part I:     April 16                NaN"
      ]
     },
     "execution_count": 63,
     "metadata": {},
     "output_type": "execute_result"
    }
   ],
   "source": [
    "pythonWs_df.head()\n"
   ]
  },
  {
   "cell_type": "markdown",
   "id": "c9576876",
   "metadata": {},
   "source": [
    "<h4> Working with Series aka Column values </h4> \n",
    "\n",
    "<p> To call a column use <code>the name of the DataFrame</code>, and use <code> [\"name of column\"]</code> square brackets. "
   ]
  },
  {
   "cell_type": "code",
   "execution_count": 64,
   "id": "1e08a25c",
   "metadata": {},
   "outputs": [
    {
     "data": {
      "text/plain": [
       "np.float64(22.0)"
      ]
     },
     "execution_count": 64,
     "metadata": {},
     "output_type": "execute_result"
    }
   ],
   "source": [
    "# Find the maximum value in the column\n",
    "max_attendees = pythonWs_df[\"Attendees Numbers\"].max()\n",
    "max_attendees"
   ]
  },
  {
   "cell_type": "markdown",
   "id": "ef08fa3c",
   "metadata": {},
   "source": [
    "<h2>How to Read, Clean, and Write Tabular Data?</h2>\n",
    "\n",
    "<p>In this section, I will be working with San Antonio 311 Service Calls, which is publicly available data from: <a href=\"https://data.sanantonio.gov/\">https://data.sanantonio.gov/</a></p>\n",
    "\n",
    "<ol>\n",
    "    <li>Loading data: <code>df = pd.read_csv('filename.csv')</code></li>\n",
    "    <li>Explore the data <code> df.info</code> and <code> df.describe</code></li>\n",
    "    <li>Standardizing column names: \n",
    "        <code>df.columns = df.columns.str.strip().str.lower().str.replace(' ', '_')</code>\n",
    "    </li>\n",
    "    <li>Checking for missing data: <code>df.isnull().sum()</code></li>\n",
    "    </li>\n",
    "    <li>Changing data types (e.g., to datetime): \n",
    "        <code>df['closeddatetime'] = pd.to_datetime(df['closeddatetime'], errors='coerce')</code>\n",
    "    </li>\n",
    "    <li>Filtering data: \n",
    "        <code>df = df[df['council_district'] == 5]</code> <!-- Filter by district -->\n",
    "    </li>\n",
    "    <li>Replacing values: \n",
    "        <code>df['late_(yes/no)'] = df['late_(yes/no)'].replace({'Yes': 'Late', 'No': 'On time'})</code>\n",
    "    </li>\n",
    "    <li>Writing cleaned data: \n",
    "        <code>df.to_json('cleaned_data.json', orient='records', lines=True)</code>\n",
    "    </li>\n",
    "</ol>\n",
    "\n"
   ]
  },
  {
   "cell_type": "code",
   "execution_count": 65,
   "id": "d73a5047",
   "metadata": {},
   "outputs": [],
   "source": [
    "# optional, set up some display options\n",
    "pd.set_option('display.max_columns', None)"
   ]
  },
  {
   "cell_type": "markdown",
   "id": "295110c2",
   "metadata": {},
   "source": [
    "<h4> 1. Loading Data </h4>"
   ]
  },
  {
   "cell_type": "code",
   "execution_count": null,
   "id": "3f1c4d78",
   "metadata": {},
   "outputs": [
    {
     "data": {
      "text/html": [
       "<div>\n",
       "<style scoped>\n",
       "    .dataframe tbody tr th:only-of-type {\n",
       "        vertical-align: middle;\n",
       "    }\n",
       "\n",
       "    .dataframe tbody tr th {\n",
       "        vertical-align: top;\n",
       "    }\n",
       "\n",
       "    .dataframe thead th {\n",
       "        text-align: right;\n",
       "    }\n",
       "</style>\n",
       "<table border=\"1\" class=\"dataframe\">\n",
       "  <thead>\n",
       "    <tr style=\"text-align: right;\">\n",
       "      <th></th>\n",
       "      <th>_id</th>\n",
       "      <th>Category</th>\n",
       "      <th>CASEID</th>\n",
       "      <th>OPENEDDATETIME</th>\n",
       "      <th>SLA_Date</th>\n",
       "      <th>CLOSEDDATETIME</th>\n",
       "      <th>Late (Yes/No)</th>\n",
       "      <th>Dept</th>\n",
       "      <th>REASONNAME</th>\n",
       "      <th>TYPENAME</th>\n",
       "      <th>CaseStatus</th>\n",
       "      <th>SourceID</th>\n",
       "      <th>OBJECTDESC</th>\n",
       "      <th>Council District</th>\n",
       "      <th>XCOORD</th>\n",
       "      <th>YCOORD</th>\n",
       "      <th>Report Starting Date</th>\n",
       "      <th>Report Ending Date</th>\n",
       "    </tr>\n",
       "  </thead>\n",
       "  <tbody>\n",
       "    <tr>\n",
       "      <th>35962</th>\n",
       "      <td>35963</td>\n",
       "      <td>Streets &amp; Infrastructure</td>\n",
       "      <td>1020249663</td>\n",
       "      <td>4/4/2025</td>\n",
       "      <td>4/9/2025</td>\n",
       "      <td>NaN</td>\n",
       "      <td>NO</td>\n",
       "      <td>Public Works</td>\n",
       "      <td>Streets</td>\n",
       "      <td>Pavement Repair (Pothole)</td>\n",
       "      <td>Open</td>\n",
       "      <td>Constituent Call</td>\n",
       "      <td>26449  SMITHSON VALLEY RD, SAN ANTONIO</td>\n",
       "      <td>9</td>\n",
       "      <td>2143291.0</td>\n",
       "      <td>13799876.0</td>\n",
       "      <td>4/5/2024</td>\n",
       "      <td>4/5/2025</td>\n",
       "    </tr>\n",
       "    <tr>\n",
       "      <th>35963</th>\n",
       "      <td>35964</td>\n",
       "      <td>Streets &amp; Infrastructure</td>\n",
       "      <td>1020249669</td>\n",
       "      <td>4/4/2025</td>\n",
       "      <td>4/9/2025</td>\n",
       "      <td>NaN</td>\n",
       "      <td>NO</td>\n",
       "      <td>Public Works</td>\n",
       "      <td>Streets</td>\n",
       "      <td>Pavement Repair (Pothole)</td>\n",
       "      <td>Open</td>\n",
       "      <td>Constituent Call</td>\n",
       "      <td>IOWA ST and ST ANTHONY AVE</td>\n",
       "      <td>2</td>\n",
       "      <td>2139355.0</td>\n",
       "      <td>13697738.0</td>\n",
       "      <td>4/5/2024</td>\n",
       "      <td>4/5/2025</td>\n",
       "    </tr>\n",
       "    <tr>\n",
       "      <th>35964</th>\n",
       "      <td>35965</td>\n",
       "      <td>Streets &amp; Infrastructure</td>\n",
       "      <td>1020249688</td>\n",
       "      <td>4/4/2025</td>\n",
       "      <td>4/9/2025</td>\n",
       "      <td>NaN</td>\n",
       "      <td>NO</td>\n",
       "      <td>Public Works</td>\n",
       "      <td>Streets</td>\n",
       "      <td>Pavement Repair (Pothole)</td>\n",
       "      <td>Open</td>\n",
       "      <td>Constituent Call</td>\n",
       "      <td>17501 NACOGDOCHES RD, SAN ANTONIO, 78266</td>\n",
       "      <td>10</td>\n",
       "      <td>2178833.0</td>\n",
       "      <td>13766963.0</td>\n",
       "      <td>4/5/2024</td>\n",
       "      <td>4/5/2025</td>\n",
       "    </tr>\n",
       "    <tr>\n",
       "      <th>35965</th>\n",
       "      <td>35966</td>\n",
       "      <td>Streets &amp; Infrastructure</td>\n",
       "      <td>1020249690</td>\n",
       "      <td>4/4/2025</td>\n",
       "      <td>4/9/2025</td>\n",
       "      <td>NaN</td>\n",
       "      <td>NO</td>\n",
       "      <td>Public Works</td>\n",
       "      <td>Streets</td>\n",
       "      <td>Pavement Repair (Pothole)</td>\n",
       "      <td>Open</td>\n",
       "      <td>Constituent Call</td>\n",
       "      <td>2101 NOGALITOS ST, SAN ANTONIO, 78225</td>\n",
       "      <td>5</td>\n",
       "      <td>2121890.0</td>\n",
       "      <td>13690807.0</td>\n",
       "      <td>4/5/2024</td>\n",
       "      <td>4/5/2025</td>\n",
       "    </tr>\n",
       "    <tr>\n",
       "      <th>35966</th>\n",
       "      <td>35967</td>\n",
       "      <td>Streets &amp; Infrastructure</td>\n",
       "      <td>1020249695</td>\n",
       "      <td>4/4/2025</td>\n",
       "      <td>4/9/2025</td>\n",
       "      <td>NaN</td>\n",
       "      <td>NO</td>\n",
       "      <td>Public Works</td>\n",
       "      <td>Streets</td>\n",
       "      <td>Pavement Repair (Pothole)</td>\n",
       "      <td>Open</td>\n",
       "      <td>311 Mobile App</td>\n",
       "      <td>US HWY 281 N ACCESS RD and WURZBACH PKWY ACCES...</td>\n",
       "      <td>9</td>\n",
       "      <td>2131904.0</td>\n",
       "      <td>13749781.0</td>\n",
       "      <td>4/5/2024</td>\n",
       "      <td>4/5/2025</td>\n",
       "    </tr>\n",
       "  </tbody>\n",
       "</table>\n",
       "</div>"
      ],
      "text/plain": [
       "         _id                  Category      CASEID OPENEDDATETIME  SLA_Date  \\\n",
       "35962  35963  Streets & Infrastructure  1020249663       4/4/2025  4/9/2025   \n",
       "35963  35964  Streets & Infrastructure  1020249669       4/4/2025  4/9/2025   \n",
       "35964  35965  Streets & Infrastructure  1020249688       4/4/2025  4/9/2025   \n",
       "35965  35966  Streets & Infrastructure  1020249690       4/4/2025  4/9/2025   \n",
       "35966  35967  Streets & Infrastructure  1020249695       4/4/2025  4/9/2025   \n",
       "\n",
       "      CLOSEDDATETIME Late (Yes/No)          Dept REASONNAME  \\\n",
       "35962            NaN            NO  Public Works    Streets   \n",
       "35963            NaN            NO  Public Works    Streets   \n",
       "35964            NaN            NO  Public Works    Streets   \n",
       "35965            NaN            NO  Public Works    Streets   \n",
       "35966            NaN            NO  Public Works    Streets   \n",
       "\n",
       "                        TYPENAME CaseStatus          SourceID  \\\n",
       "35962  Pavement Repair (Pothole)       Open  Constituent Call   \n",
       "35963  Pavement Repair (Pothole)       Open  Constituent Call   \n",
       "35964  Pavement Repair (Pothole)       Open  Constituent Call   \n",
       "35965  Pavement Repair (Pothole)       Open  Constituent Call   \n",
       "35966  Pavement Repair (Pothole)       Open    311 Mobile App   \n",
       "\n",
       "                                              OBJECTDESC  Council District  \\\n",
       "35962             26449  SMITHSON VALLEY RD, SAN ANTONIO                 9   \n",
       "35963                         IOWA ST and ST ANTHONY AVE                 2   \n",
       "35964           17501 NACOGDOCHES RD, SAN ANTONIO, 78266                10   \n",
       "35965              2101 NOGALITOS ST, SAN ANTONIO, 78225                 5   \n",
       "35966  US HWY 281 N ACCESS RD and WURZBACH PKWY ACCES...                 9   \n",
       "\n",
       "          XCOORD      YCOORD Report Starting Date Report Ending Date  \n",
       "35962  2143291.0  13799876.0             4/5/2024           4/5/2025  \n",
       "35963  2139355.0  13697738.0             4/5/2024           4/5/2025  \n",
       "35964  2178833.0  13766963.0             4/5/2024           4/5/2025  \n",
       "35965  2121890.0  13690807.0             4/5/2024           4/5/2025  \n",
       "35966  2131904.0  13749781.0             4/5/2024           4/5/2025  "
      ]
     },
     "execution_count": 78,
     "metadata": {},
     "output_type": "execute_result"
    }
   ],
   "source": [
    "# load the dataset\n",
    "data = \"SA311_Street_Infrastructure.csv\" # url https://data.sanantonio.gov/dataset/93b0e7ee-3a55-4aa9-b27b-d1817e91aec3/resource/00370431-ce2d-4b32-9b75-b9734bd13fa3/download/allservice_streets-infrastructure.csv\n",
    "\n",
    "sa311_df = pd.read_csv(data)\n",
    "\n",
    "# preview the last 5 rows or change the number of rows \n",
    "#sa311_df.head()\n",
    "sa311_df.tail()"
   ]
  },
  {
   "cell_type": "markdown",
   "id": "6926c616",
   "metadata": {},
   "source": [
    "<h4>2. Explore the data</h4>"
   ]
  },
  {
   "cell_type": "code",
   "execution_count": 67,
   "id": "d1ed8fcd",
   "metadata": {},
   "outputs": [
    {
     "name": "stdout",
     "output_type": "stream",
     "text": [
      "<class 'pandas.core.frame.DataFrame'>\n",
      "RangeIndex: 35967 entries, 0 to 35966\n",
      "Data columns (total 18 columns):\n",
      " #   Column                Non-Null Count  Dtype  \n",
      "---  ------                --------------  -----  \n",
      " 0   _id                   35967 non-null  int64  \n",
      " 1   Category              35967 non-null  object \n",
      " 2   CASEID                35967 non-null  int64  \n",
      " 3   OPENEDDATETIME        35967 non-null  object \n",
      " 4   SLA_Date              35967 non-null  object \n",
      " 5   CLOSEDDATETIME        34718 non-null  object \n",
      " 6   Late (Yes/No)         35967 non-null  object \n",
      " 7   Dept                  35967 non-null  object \n",
      " 8   REASONNAME            35967 non-null  object \n",
      " 9   TYPENAME              35967 non-null  object \n",
      " 10  CaseStatus            35967 non-null  object \n",
      " 11  SourceID              35967 non-null  object \n",
      " 12  OBJECTDESC            35967 non-null  object \n",
      " 13  Council District      35967 non-null  int64  \n",
      " 14  XCOORD                35964 non-null  float64\n",
      " 15  YCOORD                35964 non-null  float64\n",
      " 16  Report Starting Date  35967 non-null  object \n",
      " 17  Report Ending Date    35967 non-null  object \n",
      "dtypes: float64(2), int64(3), object(13)\n",
      "memory usage: 4.9+ MB\n"
     ]
    },
    {
     "data": {
      "text/html": [
       "<div>\n",
       "<style scoped>\n",
       "    .dataframe tbody tr th:only-of-type {\n",
       "        vertical-align: middle;\n",
       "    }\n",
       "\n",
       "    .dataframe tbody tr th {\n",
       "        vertical-align: top;\n",
       "    }\n",
       "\n",
       "    .dataframe thead th {\n",
       "        text-align: right;\n",
       "    }\n",
       "</style>\n",
       "<table border=\"1\" class=\"dataframe\">\n",
       "  <thead>\n",
       "    <tr style=\"text-align: right;\">\n",
       "      <th></th>\n",
       "      <th>_id</th>\n",
       "      <th>Category</th>\n",
       "      <th>CASEID</th>\n",
       "      <th>OPENEDDATETIME</th>\n",
       "      <th>SLA_Date</th>\n",
       "      <th>CLOSEDDATETIME</th>\n",
       "      <th>Late (Yes/No)</th>\n",
       "      <th>Dept</th>\n",
       "      <th>REASONNAME</th>\n",
       "      <th>TYPENAME</th>\n",
       "      <th>CaseStatus</th>\n",
       "      <th>SourceID</th>\n",
       "      <th>OBJECTDESC</th>\n",
       "      <th>Council District</th>\n",
       "      <th>XCOORD</th>\n",
       "      <th>YCOORD</th>\n",
       "      <th>Report Starting Date</th>\n",
       "      <th>Report Ending Date</th>\n",
       "    </tr>\n",
       "  </thead>\n",
       "  <tbody>\n",
       "    <tr>\n",
       "      <th>count</th>\n",
       "      <td>35967.000000</td>\n",
       "      <td>35967</td>\n",
       "      <td>3.596700e+04</td>\n",
       "      <td>35967</td>\n",
       "      <td>35967</td>\n",
       "      <td>34718</td>\n",
       "      <td>35967</td>\n",
       "      <td>35967</td>\n",
       "      <td>35967</td>\n",
       "      <td>35967</td>\n",
       "      <td>35967</td>\n",
       "      <td>35967</td>\n",
       "      <td>35967</td>\n",
       "      <td>35967.000000</td>\n",
       "      <td>3.596400e+04</td>\n",
       "      <td>3.596400e+04</td>\n",
       "      <td>35967</td>\n",
       "      <td>35967</td>\n",
       "    </tr>\n",
       "    <tr>\n",
       "      <th>unique</th>\n",
       "      <td>NaN</td>\n",
       "      <td>1</td>\n",
       "      <td>NaN</td>\n",
       "      <td>604</td>\n",
       "      <td>506</td>\n",
       "      <td>340</td>\n",
       "      <td>2</td>\n",
       "      <td>2</td>\n",
       "      <td>6</td>\n",
       "      <td>32</td>\n",
       "      <td>2</td>\n",
       "      <td>2</td>\n",
       "      <td>22033</td>\n",
       "      <td>NaN</td>\n",
       "      <td>NaN</td>\n",
       "      <td>NaN</td>\n",
       "      <td>1</td>\n",
       "      <td>1</td>\n",
       "    </tr>\n",
       "    <tr>\n",
       "      <th>top</th>\n",
       "      <td>NaN</td>\n",
       "      <td>Streets &amp; Infrastructure</td>\n",
       "      <td>NaN</td>\n",
       "      <td>4/2/2025</td>\n",
       "      <td>4/17/2024</td>\n",
       "      <td>4/3/2025</td>\n",
       "      <td>NO</td>\n",
       "      <td>Public Works</td>\n",
       "      <td>Streets</td>\n",
       "      <td>Pavement Repair (Pothole)</td>\n",
       "      <td>Closed</td>\n",
       "      <td>Constituent Call</td>\n",
       "      <td>0  IH 10 W ACCESS RD, SAN ANTONIO</td>\n",
       "      <td>NaN</td>\n",
       "      <td>NaN</td>\n",
       "      <td>NaN</td>\n",
       "      <td>4/5/2024</td>\n",
       "      <td>4/5/2025</td>\n",
       "    </tr>\n",
       "    <tr>\n",
       "      <th>freq</th>\n",
       "      <td>NaN</td>\n",
       "      <td>35967</td>\n",
       "      <td>NaN</td>\n",
       "      <td>384</td>\n",
       "      <td>325</td>\n",
       "      <td>322</td>\n",
       "      <td>32268</td>\n",
       "      <td>35368</td>\n",
       "      <td>27141</td>\n",
       "      <td>10757</td>\n",
       "      <td>34719</td>\n",
       "      <td>32247</td>\n",
       "      <td>49</td>\n",
       "      <td>NaN</td>\n",
       "      <td>NaN</td>\n",
       "      <td>NaN</td>\n",
       "      <td>35967</td>\n",
       "      <td>35967</td>\n",
       "    </tr>\n",
       "    <tr>\n",
       "      <th>mean</th>\n",
       "      <td>17984.000000</td>\n",
       "      <td>NaN</td>\n",
       "      <td>1.019898e+09</td>\n",
       "      <td>NaN</td>\n",
       "      <td>NaN</td>\n",
       "      <td>NaN</td>\n",
       "      <td>NaN</td>\n",
       "      <td>NaN</td>\n",
       "      <td>NaN</td>\n",
       "      <td>NaN</td>\n",
       "      <td>NaN</td>\n",
       "      <td>NaN</td>\n",
       "      <td>NaN</td>\n",
       "      <td>4.626296</td>\n",
       "      <td>2.122134e+06</td>\n",
       "      <td>1.371415e+07</td>\n",
       "      <td>NaN</td>\n",
       "      <td>NaN</td>\n",
       "    </tr>\n",
       "    <tr>\n",
       "      <th>std</th>\n",
       "      <td>10382.922903</td>\n",
       "      <td>NaN</td>\n",
       "      <td>2.545268e+05</td>\n",
       "      <td>NaN</td>\n",
       "      <td>NaN</td>\n",
       "      <td>NaN</td>\n",
       "      <td>NaN</td>\n",
       "      <td>NaN</td>\n",
       "      <td>NaN</td>\n",
       "      <td>NaN</td>\n",
       "      <td>NaN</td>\n",
       "      <td>NaN</td>\n",
       "      <td>NaN</td>\n",
       "      <td>2.948303</td>\n",
       "      <td>2.757437e+04</td>\n",
       "      <td>2.848604e+04</td>\n",
       "      <td>NaN</td>\n",
       "      <td>NaN</td>\n",
       "    </tr>\n",
       "    <tr>\n",
       "      <th>min</th>\n",
       "      <td>1.000000</td>\n",
       "      <td>NaN</td>\n",
       "      <td>1.016014e+09</td>\n",
       "      <td>NaN</td>\n",
       "      <td>NaN</td>\n",
       "      <td>NaN</td>\n",
       "      <td>NaN</td>\n",
       "      <td>NaN</td>\n",
       "      <td>NaN</td>\n",
       "      <td>NaN</td>\n",
       "      <td>NaN</td>\n",
       "      <td>NaN</td>\n",
       "      <td>NaN</td>\n",
       "      <td>0.000000</td>\n",
       "      <td>2.031000e+06</td>\n",
       "      <td>1.361436e+07</td>\n",
       "      <td>NaN</td>\n",
       "      <td>NaN</td>\n",
       "    </tr>\n",
       "    <tr>\n",
       "      <th>25%</th>\n",
       "      <td>8992.500000</td>\n",
       "      <td>NaN</td>\n",
       "      <td>1.019733e+09</td>\n",
       "      <td>NaN</td>\n",
       "      <td>NaN</td>\n",
       "      <td>NaN</td>\n",
       "      <td>NaN</td>\n",
       "      <td>NaN</td>\n",
       "      <td>NaN</td>\n",
       "      <td>NaN</td>\n",
       "      <td>NaN</td>\n",
       "      <td>NaN</td>\n",
       "      <td>NaN</td>\n",
       "      <td>2.000000</td>\n",
       "      <td>2.103163e+06</td>\n",
       "      <td>1.369439e+07</td>\n",
       "      <td>NaN</td>\n",
       "      <td>NaN</td>\n",
       "    </tr>\n",
       "    <tr>\n",
       "      <th>50%</th>\n",
       "      <td>17984.000000</td>\n",
       "      <td>NaN</td>\n",
       "      <td>1.019913e+09</td>\n",
       "      <td>NaN</td>\n",
       "      <td>NaN</td>\n",
       "      <td>NaN</td>\n",
       "      <td>NaN</td>\n",
       "      <td>NaN</td>\n",
       "      <td>NaN</td>\n",
       "      <td>NaN</td>\n",
       "      <td>NaN</td>\n",
       "      <td>NaN</td>\n",
       "      <td>NaN</td>\n",
       "      <td>4.000000</td>\n",
       "      <td>2.123105e+06</td>\n",
       "      <td>1.371239e+07</td>\n",
       "      <td>NaN</td>\n",
       "      <td>NaN</td>\n",
       "    </tr>\n",
       "    <tr>\n",
       "      <th>75%</th>\n",
       "      <td>26975.500000</td>\n",
       "      <td>NaN</td>\n",
       "      <td>1.020086e+09</td>\n",
       "      <td>NaN</td>\n",
       "      <td>NaN</td>\n",
       "      <td>NaN</td>\n",
       "      <td>NaN</td>\n",
       "      <td>NaN</td>\n",
       "      <td>NaN</td>\n",
       "      <td>NaN</td>\n",
       "      <td>NaN</td>\n",
       "      <td>NaN</td>\n",
       "      <td>NaN</td>\n",
       "      <td>7.000000</td>\n",
       "      <td>2.140748e+06</td>\n",
       "      <td>1.373399e+07</td>\n",
       "      <td>NaN</td>\n",
       "      <td>NaN</td>\n",
       "    </tr>\n",
       "    <tr>\n",
       "      <th>max</th>\n",
       "      <td>35967.000000</td>\n",
       "      <td>NaN</td>\n",
       "      <td>1.020250e+09</td>\n",
       "      <td>NaN</td>\n",
       "      <td>NaN</td>\n",
       "      <td>NaN</td>\n",
       "      <td>NaN</td>\n",
       "      <td>NaN</td>\n",
       "      <td>NaN</td>\n",
       "      <td>NaN</td>\n",
       "      <td>NaN</td>\n",
       "      <td>NaN</td>\n",
       "      <td>NaN</td>\n",
       "      <td>10.000000</td>\n",
       "      <td>2.217898e+06</td>\n",
       "      <td>1.381636e+07</td>\n",
       "      <td>NaN</td>\n",
       "      <td>NaN</td>\n",
       "    </tr>\n",
       "  </tbody>\n",
       "</table>\n",
       "</div>"
      ],
      "text/plain": [
       "                 _id                  Category        CASEID OPENEDDATETIME  \\\n",
       "count   35967.000000                     35967  3.596700e+04          35967   \n",
       "unique           NaN                         1           NaN            604   \n",
       "top              NaN  Streets & Infrastructure           NaN       4/2/2025   \n",
       "freq             NaN                     35967           NaN            384   \n",
       "mean    17984.000000                       NaN  1.019898e+09            NaN   \n",
       "std     10382.922903                       NaN  2.545268e+05            NaN   \n",
       "min         1.000000                       NaN  1.016014e+09            NaN   \n",
       "25%      8992.500000                       NaN  1.019733e+09            NaN   \n",
       "50%     17984.000000                       NaN  1.019913e+09            NaN   \n",
       "75%     26975.500000                       NaN  1.020086e+09            NaN   \n",
       "max     35967.000000                       NaN  1.020250e+09            NaN   \n",
       "\n",
       "         SLA_Date CLOSEDDATETIME Late (Yes/No)          Dept REASONNAME  \\\n",
       "count       35967          34718         35967         35967      35967   \n",
       "unique        506            340             2             2          6   \n",
       "top     4/17/2024       4/3/2025            NO  Public Works    Streets   \n",
       "freq          325            322         32268         35368      27141   \n",
       "mean          NaN            NaN           NaN           NaN        NaN   \n",
       "std           NaN            NaN           NaN           NaN        NaN   \n",
       "min           NaN            NaN           NaN           NaN        NaN   \n",
       "25%           NaN            NaN           NaN           NaN        NaN   \n",
       "50%           NaN            NaN           NaN           NaN        NaN   \n",
       "75%           NaN            NaN           NaN           NaN        NaN   \n",
       "max           NaN            NaN           NaN           NaN        NaN   \n",
       "\n",
       "                         TYPENAME CaseStatus          SourceID  \\\n",
       "count                       35967      35967             35967   \n",
       "unique                         32          2                 2   \n",
       "top     Pavement Repair (Pothole)     Closed  Constituent Call   \n",
       "freq                        10757      34719             32247   \n",
       "mean                          NaN        NaN               NaN   \n",
       "std                           NaN        NaN               NaN   \n",
       "min                           NaN        NaN               NaN   \n",
       "25%                           NaN        NaN               NaN   \n",
       "50%                           NaN        NaN               NaN   \n",
       "75%                           NaN        NaN               NaN   \n",
       "max                           NaN        NaN               NaN   \n",
       "\n",
       "                               OBJECTDESC  Council District        XCOORD  \\\n",
       "count                               35967      35967.000000  3.596400e+04   \n",
       "unique                              22033               NaN           NaN   \n",
       "top     0  IH 10 W ACCESS RD, SAN ANTONIO               NaN           NaN   \n",
       "freq                                   49               NaN           NaN   \n",
       "mean                                  NaN          4.626296  2.122134e+06   \n",
       "std                                   NaN          2.948303  2.757437e+04   \n",
       "min                                   NaN          0.000000  2.031000e+06   \n",
       "25%                                   NaN          2.000000  2.103163e+06   \n",
       "50%                                   NaN          4.000000  2.123105e+06   \n",
       "75%                                   NaN          7.000000  2.140748e+06   \n",
       "max                                   NaN         10.000000  2.217898e+06   \n",
       "\n",
       "              YCOORD Report Starting Date Report Ending Date  \n",
       "count   3.596400e+04                35967              35967  \n",
       "unique           NaN                    1                  1  \n",
       "top              NaN             4/5/2024           4/5/2025  \n",
       "freq             NaN                35967              35967  \n",
       "mean    1.371415e+07                  NaN                NaN  \n",
       "std     2.848604e+04                  NaN                NaN  \n",
       "min     1.361436e+07                  NaN                NaN  \n",
       "25%     1.369439e+07                  NaN                NaN  \n",
       "50%     1.371239e+07                  NaN                NaN  \n",
       "75%     1.373399e+07                  NaN                NaN  \n",
       "max     1.381636e+07                  NaN                NaN  "
      ]
     },
     "execution_count": 67,
     "metadata": {},
     "output_type": "execute_result"
    }
   ],
   "source": [
    "# explore the structure\n",
    "sa311_df.info()\n",
    "\n",
    "sa311_df.describe(include='all') # includes object columns: data type of \"object\" typically store strings or mixed data types. (resource) pandas.DataFrame.dtypes: https://pandas.pydata.org/docs/user_guide/basics.html#basics-dtypes"
   ]
  },
  {
   "cell_type": "markdown",
   "id": "5158aa8b",
   "metadata": {},
   "source": [
    "<h4> 3. Standardize column names </h4>"
   ]
  },
  {
   "cell_type": "code",
   "execution_count": 80,
   "id": "7a79eee9",
   "metadata": {},
   "outputs": [
    {
     "data": {
      "text/plain": [
       "Index(['_id', 'category', 'caseid', 'openeddatetime', 'sla_date',\n",
       "       'closeddatetime', 'late_(yes/no)', 'dept', 'reasonname', 'typename',\n",
       "       'casestatus', 'sourceid', 'objectdesc', 'council_district', 'xcoord',\n",
       "       'ycoord', 'report_starting_date', 'report_ending_date'],\n",
       "      dtype='object')"
      ]
     },
     "execution_count": 80,
     "metadata": {},
     "output_type": "execute_result"
    }
   ],
   "source": [
    "# strip whitespace from column names \n",
    "sa311_df.columns = sa311_df.columns.str.strip().str.lower().str.replace(' ', '_')\n",
    "sa311_df.columns"
   ]
  },
  {
   "cell_type": "markdown",
   "id": "77ac3c10",
   "metadata": {},
   "source": [
    "<h4> 4. Check for missing values </h4>"
   ]
  },
  {
   "cell_type": "code",
   "execution_count": null,
   "id": "769eec9b",
   "metadata": {},
   "outputs": [
    {
     "data": {
      "text/plain": [
       "_id                        0\n",
       "category                   0\n",
       "caseid                     0\n",
       "openeddatetime             0\n",
       "sla_date                   0\n",
       "closeddatetime          1249\n",
       "late_(yes/no)              0\n",
       "dept                       0\n",
       "reasonname                 0\n",
       "typename                   0\n",
       "casestatus                 0\n",
       "sourceid                   0\n",
       "objectdesc                 0\n",
       "council_district           0\n",
       "xcoord                     3\n",
       "ycoord                     3\n",
       "report_starting_date       0\n",
       "report_ending_date         0\n",
       "dtype: int64"
      ]
     },
     "execution_count": 81,
     "metadata": {},
     "output_type": "execute_result"
    }
   ],
   "source": [
    "sa311_df.isnull().sum()"
   ]
  },
  {
   "cell_type": "markdown",
   "id": "b4f8a70d",
   "metadata": {},
   "source": [
    "<h4>5. change the data type: datetime </h4>"
   ]
  },
  {
   "cell_type": "code",
   "execution_count": 90,
   "id": "da15158d",
   "metadata": {},
   "outputs": [],
   "source": [
    "\n",
    "sa311_df['closeddatetime'] = pd.to_datetime(sa311_df['closeddatetime'], errors='coerce') # NaT (Not a Time) represents missing or invalid datetime values. It's analogous to NaN (Not a Number) for numerical data. When working with time series data, NaT is used as a placeholder for missing dates or times. It ensures consistency and allows for proper handling of incomplete or erroneous data within datetime columns.\n",
    "sa311_df['openeddatetime'] = pd.to_datetime(sa311_df['openeddatetime'], errors='coerce')\n",
    "sa311_df['report_starting_date'] = pd.to_datetime(sa311_df['report_starting_date'], errors='coerce')\n",
    "sa311_df['report_ending_date'] = pd.to_datetime(sa311_df['report_ending_date'], errors='coerce')"
   ]
  },
  {
   "cell_type": "markdown",
   "id": "bb773f12",
   "metadata": {},
   "source": [
    "<h4>5. Analysis Examples</h4>\n"
   ]
  },
  {
   "cell_type": "code",
   "execution_count": 83,
   "id": "abb8b2e3",
   "metadata": {},
   "outputs": [
    {
     "data": {
      "text/plain": [
       "typename\n",
       "Pavement Repair (Pothole)                           10757\n",
       "Pavement Repair                                      5766\n",
       "Pavement Repair (ROW Construction Investigation)     3634\n",
       "Drainage Channel                                     3038\n",
       "Pavement Repair (Infrastructure Investigation)       2720\n",
       "Sidewalk Investigation                               2233\n",
       "Tree Fallen                                          1431\n",
       "Street Sweeping                                      1305\n",
       "Neighborhood Lighting                                 599\n",
       "Barricades(Emergency)                                 534\n",
       "Name: count, dtype: int64"
      ]
     },
     "execution_count": 83,
     "metadata": {},
     "output_type": "execute_result"
    }
   ],
   "source": [
    "# Most common service categories\n",
    "sa311_df['typename'].value_counts().head(10)\n"
   ]
  },
  {
   "cell_type": "code",
   "execution_count": 85,
   "id": "e31996cf",
   "metadata": {},
   "outputs": [
    {
     "data": {
      "text/plain": [
       "casestatus\n",
       "Closed    3903\n",
       "Open       131\n",
       "Name: count, dtype: int64"
      ]
     },
     "execution_count": 85,
     "metadata": {},
     "output_type": "execute_result"
    }
   ],
   "source": [
    "# Activities in a specific district (e.g., District 5)\n",
    "sa311_df[sa311_df['council_district'] == 5]['casestatus'].value_counts().head(10)"
   ]
  },
  {
   "cell_type": "code",
   "execution_count": 86,
   "id": "031b94fd",
   "metadata": {},
   "outputs": [
    {
     "data": {
      "text/plain": [
       "council_district\n",
       "0      585\n",
       "1     5990\n",
       "2     4486\n",
       "3     4384\n",
       "4     3478\n",
       "5     4034\n",
       "6     2388\n",
       "7     3439\n",
       "8     2191\n",
       "9     1651\n",
       "10    3341\n",
       "Name: count, dtype: int64"
      ]
     },
     "execution_count": 86,
     "metadata": {},
     "output_type": "execute_result"
    }
   ],
   "source": [
    "# Number of work orders per district\n",
    "sa311_df['council_district'].value_counts().sort_index()"
   ]
  },
  {
   "cell_type": "code",
   "execution_count": 87,
   "id": "26a70dd6",
   "metadata": {},
   "outputs": [
    {
     "data": {
      "text/plain": [
       "late_(yes/no)\n",
       "NO     32268\n",
       "YES     3699\n",
       "Name: count, dtype: int64"
      ]
     },
     "execution_count": 87,
     "metadata": {},
     "output_type": "execute_result"
    }
   ],
   "source": [
    "#count case that were late \n",
    "sa311_df['late_(yes/no)'].value_counts()\n"
   ]
  },
  {
   "cell_type": "markdown",
   "id": "ae8ca41a",
   "metadata": {},
   "source": [
    "<h4>6. Group by and time-based analysis</h4>"
   ]
  },
  {
   "cell_type": "code",
   "execution_count": 88,
   "id": "ca9dd7b5",
   "metadata": {},
   "outputs": [
    {
     "data": {
      "image/png": "[encoded data removed]",
      "text/plain": [
       "<Figure size 1000x400 with 1 Axes>"
      ]
     },
     "metadata": {},
     "output_type": "display_data"
    }
   ],
   "source": [
    "# 6. Group by and time-based analysis\n",
    "\n",
    "# Extract year from closeddatetime\n",
    "sa311_df['year_closed'] = sa311_df['closeddatetime'].dt.year\n",
    "\n",
    "# Plot number of work orders closed per year\n",
    "sa311_df['year_closed'].value_counts().sort_index().plot(\n",
    "    kind='bar',\n",
    "    title='Work Orders Completed per Year',\n",
    "    figsize=(10, 4)\n",
    ")\n",
    "plt.xlabel(\"Year\")\n",
    "plt.ylabel(\"Number of Work Orders\")\n",
    "plt.tight_layout()\n",
    "plt.show()\n",
    "\n"
   ]
  },
  {
   "cell_type": "code",
   "execution_count": 89,
   "id": "3f6b6ffb",
   "metadata": {},
   "outputs": [
    {
     "data": {
      "text/plain": [
       "<Axes: title={'center': 'Opened Cases by Month'}, xlabel='opened_month'>"
      ]
     },
     "execution_count": 89,
     "metadata": {},
     "output_type": "execute_result"
    },
    {
     "data": {
      "image/png": "[encoded data removed]",
      "text/plain": [
       "<Figure size 1200x400 with 1 Axes>"
      ]
     },
     "metadata": {},
     "output_type": "display_data"
    }
   ],
   "source": [
    "sa311_df['opened_month'] = sa311_df['openeddatetime'].dt.to_period('M')\n",
    "sa311_df['opened_month'].value_counts().sort_index().plot(kind='bar', figsize=(12, 4), title=\"Opened Cases by Month\")\n"
   ]
  }
 ],
 "metadata": {
  "kernelspec": {
   "display_name": ".pd",
   "language": "python",
   "name": "python3"
  },
  "language_info": {
   "codemirror_mode": {
    "name": "ipython",
    "version": 3
   },
   "file_extension": ".py",
   "mimetype": "text/x-python",
   "name": "python",
   "nbconvert_exporter": "python",
   "pygments_lexer": "ipython3",
   "version": "3.11.11"
  }
 },
 "nbformat": 4,
 "nbformat_minor": 5
}
