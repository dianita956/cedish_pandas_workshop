{
 "cells": [
  {
   "cell_type": "markdown",
   "id": "c7596b4b",
   "metadata": {},
   "source": [
    "# Introduction to Python: working with tabular data\n",
    "## workshop facilitator: Diane López, Information Specialist\n",
    "### April 16, 2025"
   ]
  },
  {
   "cell_type": "markdown",
   "id": "3d85b138",
   "metadata": {},
   "source": [
    "#### agenda: \n",
    "- introduction to pandas \n",
    "- quick start\n",
    "- series \n",
    "- dataframe\n",
    "- clean and moving "
   ]
  },
  {
   "cell_type": "markdown",
   "id": "3e4f367b",
   "metadata": {},
   "source": [
    "<h3>What's Inside Pandas</h3>\n",
    "\n",
    "| Pandas Dependency  | Required Version | Installed Version | Description |\n",
    "|--------------------|------------------|-------------------|-------------|\n",
    "| numpy              | >=1.23.2         | 2.2.4             | Supports large, multi-dimensional arrays and matrices, along with a large collection of high-level mathematical functions to operate on these arrays. |\n",
    "| python-dateutil    | >=2.8.2          | 2.9.0.post0       | Provides powerful extensions to the standard Python <code>datetime</code> module. |\n",
    "| six                | >=1.5            | 1.17.0            | A Python 2 and 3 compatibility library. |\n",
    "| pytz               | >=2020.1         | 2025.2            | Provides world timezone definitions, both modern and historical. |\n",
    "| tzdata             | >=2022.7         | 2025.2            | A Python package containing zic-compiled binaries for timezone data used in timezone-aware datetime operations. |\n"
   ]
  },
  {
   "cell_type": "markdown",
   "id": "3bc8d854",
   "metadata": {},
   "source": [
    "<h3> Things to Know About Pandas </h3>\n",
    "\n",
    "<p> To use Pandas, start by importing the package:</p>\n",
    "<pre><code>import pandas as pd</code></pre>\n",
    "<sub>(<code>pd</code> is a common alias for Pandas. It makes writing and calling Pandas functions easier—and from experience, it helps avoid misspellings!)</sub>\n",
    "\n",
    "<p> Key concepts in Pandas:</p>\n",
    "<ul>\n",
    "    <li><strong>DataFrame:</strong> A table of data stored in a 2-dimensional structure, where rows and columns are labeled.</li>\n",
    "    <li><strong>Series:</strong> Each column in a <code>DataFrame</code> is a <code>Series</code>, which is a one-dimensional array structure.</li>\n",
    "</ul>\n",
    "\n",
    "<p> You can manipulate and analyze data by applying methods to a <code>DataFrame</code> or a <code>Series</code>. "
   ]
  },
  {
   "cell_type": "markdown",
   "id": "e5848674",
   "metadata": {},
   "source": [
    "<p> <em><strong>Run the line below if working in Jupyter NoteBook or Google CoLab to install the package</strong></em></p>\n",
    "<p><em>just in case</em></p>"
   ]
  },
  {
   "cell_type": "code",
   "execution_count": null,
   "id": "8a8e4d4d",
   "metadata": {},
   "outputs": [],
   "source": [
    "#$ pip install pandas #delete the # before the $ before running install\n",
    "#$ pip install matplotlib #delete the # before the $ before running install\n",
    "#$ pip install seaborn #delete the # before the $ before running install "
   ]
  },
  {
   "cell_type": "markdown",
   "id": "e8b4be45",
   "metadata": {},
   "source": [
    "<h3>Let's Get Started — and Remember to Import Pandas!</h3>"
   ]
  },
  {
   "cell_type": "code",
   "execution_count": null,
   "id": "0bcc7c33",
   "metadata": {},
   "outputs": [],
   "source": [
    "import pandas as pd\n",
    "import matplotlib.pyplot as plt\n",
    "import seaborn as sns"
   ]
  },
  {
   "cell_type": "markdown",
   "id": "dc06bae2",
   "metadata": {},
   "source": [
    "<h2> Getting Started with Pandas DataFrame </h2>\n",
    "<p>To manually store data in a table, create a <code>DataFrame</code>. When using a Python dictionary of lists, the dictionary keys become the column headers, and the values in each list represent the data for each column of the <code>DataFrame</code>.</p>\n",
    "\n",
    "<h4> What is a DataFrame? </h4>\n",
    "\n",
    "- A 2-dimensional data structure\n",
    "\n",
    "    - Can store multiple data types:\n",
    "\n",
    "        - Strings (text)\n",
    "        - Integers\n",
    "        - Floating point values\n",
    "        - Categorical data\n",
    "\n",
    "<p> Each <strong>column</strong> in a <code>DataFrame</code> is a <code>Series</code> </p>"
   ]
  },
  {
   "cell_type": "markdown",
   "id": "4f458dfd",
   "metadata": {},
   "source": [
    "<h4> Manually creating a <code>DataFrame</code> from scratch:</h4>\n",
    "\n",
    "1. Name the DataFrame.\n",
    "\n",
    "2. Define a dictionary where:\n",
    "\n",
    "    - Each key is a column name.\n",
    "\n",
    "    - Each value is a list of cell values for that column.\n",
    "\n",
    "    - Use <code>{ }</code> curly braces to define a dictionary.\n",
    "\n",
    "    - Use <code>[ ]</code> square brackets to define a list.\n"
   ]
  },
  {
   "cell_type": "markdown",
   "id": "13df3ca5",
   "metadata": {},
   "source": [
    "<h3>structure and syntax </h3>\n",
    "<pre><code>\n",
    "DataFrame_label = ({\n",
    "    \"column1\": [\n",
    "        \"cell 1.1\", \n",
    "        \"cell 1.2\", \n",
    "        \"cell 1.3\"\n",
    "    ],\n",
    "    \"column2 label\": [\n",
    "        \"cell value2.1\", \n",
    "        \"cell value2.2\", \n",
    "        \"cell value2.3\"\n",
    "    ],\n",
    "    \"column3 label\": [\n",
    "        \"cell value3.1\", \n",
    "        \"cell value3.2\", \n",
    "        \"cell value3.3\"\n",
    "    ]\n",
    "})\n",
    "\n",
    "DataFrame_label\n",
    "</code></pre>"
   ]
  },
  {
   "cell_type": "markdown",
   "id": "9c68f8ee",
   "metadata": {},
   "source": [
    "<h3>Quick and Dirty Example</h3>\n",
    "\n",
    "<p>In this example, I'm creating a <code>DataFrame</code> to keep track of attendee counts for the workshops we've hosted.</p>\n",
    "\n",
    "<p>I start by naming the <code>DataFrame</code> as <code>pythonWs_df</code>.</p>\n",
    "\n",
    "<p>Then, I call the function to create the <code>DataFrame</code> using <code>pd.DataFrame()</code>.</p>\n",
    "\n",
    "<p>Inside the parentheses <code>()</code>, I begin creating the dictionary using curly braces <code>{}</code>.</p>\n",
    "\n",
    "<p>For example: <code>({ dictionary })</code>. Next, I define the labels for the columns, like <code>\"Workshops\":</code></p>\n",
    "\n",
    "<p>To add values for each <code>Series</code> (each column), I use square brackets <code>[]</code> to create a list of values.</p>\n",
    "\n",
    "<p>Once that's done, I can run the cell to generate the table.</p>\n"
   ]
  },
  {
   "cell_type": "code",
   "execution_count": null,
   "id": "65977a1d",
   "metadata": {},
   "outputs": [],
   "source": [
    "pythonWs_df = pd.DataFrame (\n",
    "    { # creating a dictionary with three list of Workshop, Date, and Attendees Numbers which are the column labels \n",
    "        \"Workshop\": [ # the values within the cells are contain in list \n",
    "            \"Intro to Python Part A\",\n",
    "            \"Intro to Python Part B\",\n",
    "            \"Intro to Text Analysis Part A\",\n",
    "            \"Intro to Text Analysis Part B\",\n",
    "            \"Tabular Data with Python, Part I:\",\n",
    "            \"Tabular Data with Python, Part II:\",\n",
    "        ],\n",
    "        \"Date\": [\n",
    "            \"February 2\",\n",
    "            \"February 26\",\n",
    "            \"March 19\", \n",
    "            \"April 2\",\n",
    "            \"April 16\",\n",
    "            \"April 28\",\n",
    "        ],\n",
    "        \"Attendees Numbers\": [\n",
    "            15, \n",
    "            18, \n",
    "            22, \n",
    "            18,\n",
    "            'NaN',\n",
    "            'NaN',\n",
    "        ],\n",
    "    }\n",
    ")\n",
    "\n",
    "# Convert the \"Attendees Numbers\" column to numeric, coercing errors to NaN\n",
    "pythonWs_df[\"Attendees Numbers\"] = pd.to_numeric(pythonWs_df[\"Attendees Numbers\"], errors='coerce')\n",
    "\n",
    "pythonWs_df"
   ]
  },
  {
   "cell_type": "markdown",
   "id": "3afbce90",
   "metadata": {},
   "source": [
    "<h4>How to Explore the DataFrame</h4>\n",
    "\n",
    "<p>Take time to understand your data by using <code>.dtypes</code> to check the data types of each column in the <code>DataFrame</code>.</p>\n",
    "<p>This helps you verify whether columns are stored as strings, integers, floats, or other types—so you can clean or transform them if needed.</p>\n",
    "\n"
   ]
  },
  {
   "cell_type": "code",
   "execution_count": null,
   "id": "8e9deb43",
   "metadata": {},
   "outputs": [],
   "source": [
    "pythonWs_df.dtypes"
   ]
  },
  {
   "cell_type": "markdown",
   "id": "1e948075",
   "metadata": {},
   "source": [
    "<h5> More tools to explore the DataFrame</h5>\n",
    "<ul> \n",
    "<li><code>.info(),</code></li>\n",
    "<li><code>.describe(),</code></li>\n",
    "<li><code>.head()</code></li>\n",
    "</ul>"
   ]
  },
  {
   "cell_type": "markdown",
   "id": "a846b23e",
   "metadata": {},
   "source": [
    "<h5>The <code>.info()</code> Function</h5>\n",
    "<p>The <code>.info()</code> function provides a summary of the structure of a DataFrame.</p>"
   ]
  },
  {
   "cell_type": "code",
   "execution_count": null,
   "id": "872eca98",
   "metadata": {},
   "outputs": [],
   "source": [
    "pythonWs_df.info()"
   ]
  },
  {
   "cell_type": "markdown",
   "id": "4afd512f",
   "metadata": {},
   "source": [
    "<h5>The <code>.describe()</code> Function</h5>\n",
    "<p>The <code>.describe()</code> function provides a descriptive statistical analysis of the DataFrame.</p>"
   ]
  },
  {
   "cell_type": "code",
   "execution_count": null,
   "id": "f0df1526",
   "metadata": {},
   "outputs": [],
   "source": [
    "pythonWs_df.describe()"
   ]
  },
  {
   "cell_type": "markdown",
   "id": "3492315a",
   "metadata": {},
   "source": [
    "<h5>The <code>.head()</code> Function</h5>\n",
    "<p>The <code>.head()</code> function returns the first <em> n rows</em></p>\n",
    "<p>The syntax: <code>DataFrame.head(n=5)</code> default is the first five rows.</p>\n",
    "<p>But if you want the <strong>last n rows</strong>"
   ]
  },
  {
   "cell_type": "code",
   "execution_count": null,
   "id": "16e05d5f",
   "metadata": {},
   "outputs": [],
   "source": [
    "pythonWs_df.head(6)\n"
   ]
  },
  {
   "cell_type": "markdown",
   "id": "c9576876",
   "metadata": {},
   "source": [
    "<h4> Working with Series aka Column values </h4> \n",
    "\n",
    "<p> To call a column use <code>the name of the DataFrame</code>, and use <code> [\"name of column\"]</code> square brackets. "
   ]
  },
  {
   "cell_type": "code",
   "execution_count": null,
   "id": "1e08a25c",
   "metadata": {},
   "outputs": [],
   "source": [
    "# Find the maximum value in the column\n",
    "max_attendees = pythonWs_df[\"Attendees Numbers\"].max()\n",
    "max_attendees"
   ]
  },
  {
   "cell_type": "markdown",
   "id": "ef08fa3c",
   "metadata": {},
   "source": [
    "<h2>How to Read, Clean, and Write Tabular Data?</h2>\n",
    "\n",
    "<p>In this section, I will be working with San Antonio 311 Service Calls, which is publicly available data from: <a href=\"https://data.sanantonio.gov/\">https://data.sanantonio.gov/</a></p>\n",
    "\n",
    "<ol>\n",
    "    <li>Loading data: <code>df = pd.read_csv('filename.csv')</code></li>\n",
    "    <li>Explore the data <code> df.info</code> and <code> df.describe</code></li>\n",
    "    <li>Standardizing column names: \n",
    "        <code>df.columns = df.columns.str.strip().str.lower().str.replace(' ', '_')</code>\n",
    "    </li>\n",
    "    <li>Checking for missing data: <code>df.isnull().sum()</code></li>\n",
    "    </li>\n",
    "    <li>Changing data types (e.g., to datetime): \n",
    "        <code>df['closeddatetime'] = pd.to_datetime(df['closeddatetime'], errors='coerce')</code>\n",
    "    </li>\n",
    "    <li>Filtering data: \n",
    "        <code>df = df[df['council_district'] == 5]</code> <!-- Filter by district -->\n",
    "    </li>\n",
    "    <li>Replacing values: \n",
    "        <code>df['late_(yes/no)'] = df['late_(yes/no)'].replace({'Yes': 'Late', 'No': 'On time'})</code>\n",
    "    </li>\n",
    "    <li>Writing cleaned data: \n",
    "        <code>df.to_json('cleaned_data.json', orient='records', lines=True)</code>\n",
    "    </li>\n",
    "</ol>\n",
    "\n"
   ]
  },
  {
   "cell_type": "code",
   "execution_count": null,
   "id": "d73a5047",
   "metadata": {},
   "outputs": [],
   "source": [
    "# optional, set up some display options\n",
    "pd.set_option('display.max_columns', None)"
   ]
  },
  {
   "cell_type": "markdown",
   "id": "295110c2",
   "metadata": {},
   "source": [
    "<h4> 1. Loading Data </h4>"
   ]
  },
  {
   "cell_type": "code",
   "execution_count": null,
   "id": "3f1c4d78",
   "metadata": {},
   "outputs": [],
   "source": [
    "# load the dataset\n",
    "data = \"SA311_Street_Infrastructure.csv\" # url https://data.sanantonio.gov/dataset/93b0e7ee-3a55-4aa9-b27b-d1817e91aec3/resource/00370431-ce2d-4b32-9b75-b9734bd13fa3/download/allservice_streets-infrastructure.csv\n",
    "\n",
    "sa311_df = pd.read_csv(data)\n",
    "\n",
    "# .head() or .tail() previews 5 rows by default but you change the number of rows you want to preview. \n",
    "#sa311_df.head()\n",
    "sa311_df.tail()"
   ]
  },
  {
   "cell_type": "markdown",
   "id": "6926c616",
   "metadata": {},
   "source": [
    "<h4>2. Explore the data</h4>"
   ]
  },
  {
   "cell_type": "code",
   "execution_count": null,
   "id": "d1ed8fcd",
   "metadata": {},
   "outputs": [],
   "source": [
    "# explore the structure\n",
    "sa311_df.info()\n",
    "\n",
    "sa311_df.describe(include='all') # includes object columns: data type of \"object\" typically store strings or mixed data types. (resource) pandas.DataFrame.dtypes: https://pandas.pydata.org/docs/user_guide/basics.html#basics-dtypes"
   ]
  },
  {
   "cell_type": "markdown",
   "id": "5158aa8b",
   "metadata": {},
   "source": [
    "<h4> 3. Standardize column names </h4>"
   ]
  },
  {
   "cell_type": "code",
   "execution_count": null,
   "id": "7a79eee9",
   "metadata": {},
   "outputs": [],
   "source": [
    "# strip whitespace from column names \n",
    "sa311_df.columns = sa311_df.columns.str.strip().str.lower().str.replace(' ', '_')\n",
    "sa311_df.columns"
   ]
  },
  {
   "cell_type": "markdown",
   "id": "77ac3c10",
   "metadata": {},
   "source": [
    "<h4> 4. Check for missing values </h4>"
   ]
  },
  {
   "cell_type": "code",
   "execution_count": null,
   "id": "769eec9b",
   "metadata": {},
   "outputs": [],
   "source": [
    "sa311_df.isnull().sum()"
   ]
  },
  {
   "cell_type": "markdown",
   "id": "b4f8a70d",
   "metadata": {},
   "source": [
    "<h4>5. change the data type: datetime </h4>"
   ]
  },
  {
   "cell_type": "code",
   "execution_count": null,
   "id": "da15158d",
   "metadata": {},
   "outputs": [],
   "source": [
    "# NaT (Not a Time) represents missing or invalid datetime values. It's analogous to NaN (Not a Number) for numerical data. When working with time series data, NaT is used as a placeholder for missing dates or times. It ensures consistency and allows for proper handling of incomplete or erroneous data within datetime columns.\n",
    "sa311_df['closeddatetime'] = pd.to_datetime(sa311_df['closeddatetime'], errors='coerce') \n",
    "sa311_df['openeddatetime'] = pd.to_datetime(sa311_df['openeddatetime'], errors='coerce')\n",
    "sa311_df['report_starting_date'] = pd.to_datetime(sa311_df['report_starting_date'], errors='coerce')\n",
    "sa311_df['report_ending_date'] = pd.to_datetime(sa311_df['report_ending_date'], errors='coerce')"
   ]
  },
  {
   "cell_type": "markdown",
   "id": "bb773f12",
   "metadata": {},
   "source": [
    "<h4>6. Analysis Examples</h4>\n",
    "\n"
   ]
  },
  {
   "cell_type": "code",
   "execution_count": null,
   "id": "abb8b2e3",
   "metadata": {},
   "outputs": [],
   "source": [
    "# Most common service categories\n",
    "sa311_df['typename'].value_counts().head(10)\n"
   ]
  },
  {
   "cell_type": "code",
   "execution_count": null,
   "id": "e31996cf",
   "metadata": {},
   "outputs": [],
   "source": [
    "# Activities in a specific district (e.g., District 5)\n",
    "sa311_df[sa311_df['council_district'] == 5]['casestatus'].value_counts().head(10)"
   ]
  },
  {
   "cell_type": "code",
   "execution_count": null,
   "id": "031b94fd",
   "metadata": {},
   "outputs": [],
   "source": [
    "# Number of work orders per district\n",
    "sa311_df['council_district'].value_counts().sort_index()"
   ]
  },
  {
   "cell_type": "code",
   "execution_count": null,
   "id": "7f8e2af5",
   "metadata": {},
   "outputs": [],
   "source": [
    "sa311_df['council_district'].value_counts().sort_index().plot(kind='bar', figsize=(10, 6))\n",
    "plt.title('Number of Cases per Council District')\n",
    "plt.xlabel('Council District')\n",
    "plt.ylabel('Number of Cases')\n",
    "plt.tight_layout()\n",
    "plt.show()\n",
    "\n",
    " "
   ]
  },
  {
   "cell_type": "code",
   "execution_count": null,
   "id": "26a70dd6",
   "metadata": {},
   "outputs": [],
   "source": [
    "#count case that were late \n",
    "sa311_df['late_(yes/no)'].value_counts()\n"
   ]
  },
  {
   "cell_type": "code",
   "execution_count": null,
   "id": "69df7fb5",
   "metadata": {},
   "outputs": [],
   "source": [
    "# model/test hypotheses\n",
    "# compare the percentage of the late case by service type\n",
    "# we will use .groupby() + .mean() after converting 'late_(yes/no' to binary\n",
    "# .map() applies a function or mapping dictionary to each element in a Series. Here, we use it to convert \"Yes\" and \"No\" values into binary values (1 and 0) for analysis. \n",
    "\n",
    "#1. check the unique values to make sure they are clean\n",
    "sa311_df['late_(yes/no)'].unique() \n",
    "\n",
    "#2. clean values. remove whitespace and standardize capitalization \n",
    "sa311_df['late_(yes/no)'] = sa311_df['late_(yes/no)'].str.strip().str.title()  # or .str.lower() if you're mapping lowercase\n",
    "\n",
    "#.3 convert 'yes' to 1 and 'no' to 0 for binary analysis\n",
    "sa311_df['is_late'] = sa311_df['late_(yes/no)'].map({'Yes': 1, 'No': 0})\\\n",
    "\n",
    "#4. group and calculate the average lateness rate\n",
    "# try grouping by different catergories like 'reasonname' or 'typename' \n",
    "sa311_df.groupby('reasonname')['is_late'].mean().sort_values() \n"
   ]
  },
  {
   "cell_type": "code",
   "execution_count": null,
   "id": "a31c4ba5",
   "metadata": {},
   "outputs": [],
   "source": [
    "# Group by reason and plot mean lateness as horizontal bars\n",
    "lateness_by_reason = sa311_df.groupby('reasonname')['is_late'].mean().sort_values()\n",
    "\n",
    "lateness_by_reason.plot(kind='barh', figsize=(10, 8), color='skyblue')\n",
    "plt.xlabel('Percent of Late Cases')\n",
    "plt.title('Lateness Rate by Reason for Service Call')\n",
    "plt.tight_layout()\n",
    "plt.show()"
   ]
  },
  {
   "cell_type": "code",
   "execution_count": null,
   "id": "30781013",
   "metadata": {},
   "outputs": [],
   "source": [
    "sa311_df['late_(yes/no)'].value_counts().plot(kind='pie', autopct='%1.1f%%', startangle=90)\n",
    "plt.title('On-Time vs Late Cases')\n",
    "plt.ylabel('')\n",
    "plt.tight_layout()\n",
    "plt.show()"
   ]
  },
  {
   "cell_type": "code",
   "execution_count": null,
   "id": "4552c563",
   "metadata": {},
   "outputs": [],
   "source": [
    "sa311_df.plot.scatter(\n",
    "    x='xcoord',\n",
    "    y='ycoord',\n",
    "    alpha=0.2,\n",
    "    s=1,\n",
    "    figsize=(10, 8)\n",
    ")\n",
    "plt.title('Geographic Distribution of Service Requests')\n",
    "plt.xlabel('X Coordinate')\n",
    "plt.ylabel('Y Coordinate')\n",
    "plt.tight_layout()\n",
    "plt.show()"
   ]
  },
  {
   "cell_type": "markdown",
   "id": "ae8ca41a",
   "metadata": {},
   "source": [
    "<h4>7. Group by and time-based analysis</h4>"
   ]
  },
  {
   "cell_type": "code",
   "execution_count": null,
   "id": "ca9dd7b5",
   "metadata": {},
   "outputs": [],
   "source": [
    "# Extract year from closeddatetime\n",
    "sa311_df['year_closed'] = sa311_df['closeddatetime'].dt.year\n",
    "\n",
    "# Plot number of work orders closed per year\n",
    "sa311_df['year_closed'].value_counts().sort_index().plot(\n",
    "    kind='bar',\n",
    "    title='Work Orders Completed per Year',\n",
    "    figsize=(10, 4)\n",
    ")\n",
    "plt.xlabel(\"Year\")\n",
    "plt.ylabel(\"Number of Work Orders\")\n",
    "plt.tight_layout()\n",
    "plt.show()\n",
    "\n"
   ]
  },
  {
   "cell_type": "code",
   "execution_count": null,
   "id": "3f6b6ffb",
   "metadata": {},
   "outputs": [],
   "source": [
    "sa311_df['opened_month'] = sa311_df['openeddatetime'].dt.to_period('M')\n",
    "sa311_df['opened_month'].value_counts().sort_index().plot(kind='bar', figsize=(12, 4), title=\"Opened Cases by Month\")\n"
   ]
  },
  {
   "cell_type": "markdown",
   "id": "efbf871a",
   "metadata": {},
   "source": [
    "<h4> Extra: optimize your code to ensure efficent data analysis</h4>"
   ]
  },
  {
   "cell_type": "code",
   "execution_count": null,
   "id": "f9658099",
   "metadata": {},
   "outputs": [],
   "source": [
    "# Use .copy() when subsetting to avoid SettingWithCopyWarning. Warning raised when trying to set on a copied slice from a DataFrame.\n",
    "district5_df = sa311_df[sa311_df['council_district'] == 5].copy()\n",
    "\n",
    "district5_df\n"
   ]
  },
  {
   "cell_type": "markdown",
   "id": "2879d4e1",
   "metadata": {},
   "source": [
    "<p> it is a common warning in Pandas when you modify a slice of a DataFrame without making a true copy. </p>\n",
    "<p> for example: </p> \n",
    "<code># This might raise a warning:\n",
    "df_subset = df[df['column'] == value]\n",
    "df_subset['new_column'] = 123  # <- Warning here\n",
    "</code>\n",
    "\n",
    "<p> fix: is to use <code>.copy()</code> if you are going to modify a subset</p>\n",
    "<code> df_subset = df[df['column'] == value].copy()"
   ]
  },
  {
   "cell_type": "code",
   "execution_count": null,
   "id": "a92ce634",
   "metadata": {},
   "outputs": [],
   "source": [
    "# Use .loc[] for efficient and readable row filtering\n",
    "sa311_df.loc[sa311_df['is_late'] == 1, 'caseid'].head()\n",
    "sa311_df "
   ]
  },
  {
   "cell_type": "code",
   "execution_count": null,
   "id": "3a5aa567",
   "metadata": {},
   "outputs": [],
   "source": [
    "# Downcast numeric types to save memory\n",
    "sa311_df['council_district'] = pd.to_numeric(sa311_df['council_district'], downcast='integer')\n",
    "\n",
    "sa311_df"
   ]
  },
  {
   "cell_type": "code",
   "execution_count": null,
   "id": "519dd76a",
   "metadata": {},
   "outputs": [],
   "source": [
    "# Check memory usage\n",
    "sa311_df.memory_usage(deep=True)\n"
   ]
  },
  {
   "cell_type": "code",
   "execution_count": null,
   "id": "a033922d",
   "metadata": {},
   "outputs": [],
   "source": [
    "# Optional: convert object columns to 'category' if they have a limited number of unique values\n",
    "sa311_df['reasonname'] = sa311_df['reasonname'].astype('category')\n",
    "\n",
    "sa311_df"
   ]
  },
  {
   "cell_type": "markdown",
   "id": "3b194f7e",
   "metadata": {},
   "source": [
    "<h2>Resources</h2>\n",
    "\n",
    "<ul>\n",
    "  <li>\n",
    "    📘 <strong><a href=\"https://utsa.primo.exlibrisgroup.com/permalink/01UTXSANT_INST/ken82l/alma9938721200504621\" target=\"_blank\">\n",
    "    The Pandas Workshop: A Comprehensive Guide to Using Python for Data Analysis with Real-World Case Studies</a></strong>  \n",
    "    – Available through UTSA Libraries. Great for learning through examples and applying real-world data analysis skills.\n",
    "  </li>\n",
    "  <li>\n",
    "    📚 <strong><a href=\"https://pandas.pydata.org/docs/index.html\" target=\"_blank\">\n",
    "    Pandas Official Documentation</a></strong>  \n",
    "    – The go-to reference for all pandas functions, syntax, and advanced usage tips.\n",
    "  </li>\n",
    "  <li>\n",
    "    🔍 <strong><a href=\"https://github.com/pandas-dev/pandas/blob/main/doc/cheatsheet/Pandas_Cheat_Sheet.pdf\" target=\"_blank\">\n",
    "    GitHub Source: Pandas Cheat Sheet</a></strong>  \n",
    "    – Maintained by the pandas team, ideal for printing or bookmarking.\n",
    "  </li>\n",
    "  <li>\n",
    "    📊 <strong><a href=\"https://www.datacamp.com/cheat-sheet/pandas-cheat-sheet-for-data-science-in-python\" target=\"_blank\">\n",
    "    DataCamp Pandas Cheat Sheet</a></strong>  \n",
    "    – Beginner-friendly and visual, with examples of how to use each function.\n",
    "  </li>\n",
    "  <li>\n",
    "    📖 <strong><a href=\"https://matplotlib.org/stable/gallery/index.html\" target=\"_blank\">\n",
    "    MatPlotLib</a></strong>  \n",
    "    – Matplotlib is a comprehensive library for creating static, animated, and interactive visualizations in Python. Matplotlib makes easy things easy and hard things possible.\n",
    "  </li>\n",
    "  </ul>\n"
   ]
  },
  {
   "cell_type": "markdown",
   "id": "a8bf1fb5",
   "metadata": {},
   "source": []
  }
 ],
 "metadata": {
  "kernelspec": {
   "display_name": ".pd",
   "language": "python",
   "name": "python3"
  },
  "language_info": {
   "codemirror_mode": {
    "name": "ipython",
    "version": 3
   },
   "file_extension": ".py",
   "mimetype": "text/x-python",
   "name": "python",
   "nbconvert_exporter": "python",
   "pygments_lexer": "ipython3",
   "version": "3.11.11"
  }
 },
 "nbformat": 4,
 "nbformat_minor": 5
}
