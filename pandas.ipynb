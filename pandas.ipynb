{
 "cells": [
  {
   "cell_type": "markdown",
   "id": "c7596b4b",
   "metadata": {},
   "source": [
    "# Introduction to Python: working with tabluar data\n",
    "## workshop facilitator: Diane López, Information Specialist\n",
    "### April 16, 2026"
   ]
  },
  {
   "cell_type": "markdown",
   "id": "3d85b138",
   "metadata": {},
   "source": [
    "#### agenda: \n",
    "- introduction to pandas \n",
    "- quick start\n",
    "- series \n",
    "- dataframe\n",
    "- clean and moving "
   ]
  },
  {
   "cell_type": "markdown",
   "id": "3e4f367b",
   "metadata": {},
   "source": [
    "<h3>What's Inside Pandas</h3>\n",
    "\n",
    "| Pandas Dependency  | Required Version | Installed Version | Description |\n",
    "|--------------------|------------------|-------------------|-------------|\n",
    "| numpy              | >=1.23.2         | 2.2.4             | Supports large, multi-dimensional arrays and matrices, along with a large collection of high-level mathematical functions to operate on these arrays. |\n",
    "| python-dateutil    | >=2.8.2          | 2.9.0.post0       | Provides powerful extensions to the standard Python <code>datetime</code> module. |\n",
    "| six                | >=1.5            | 1.17.0            | A Python 2 and 3 compatibility library. |\n",
    "| pytz               | >=2020.1         | 2025.2            | Provides world timezone definitions, both modern and historical. |\n",
    "| tzdata             | >=2022.7         | 2025.2            | A Python package containing zic-compiled binaries for timezone data used in timezone-aware datetime operations. |\n"
   ]
  },
  {
   "cell_type": "markdown",
   "id": "3bc8d854",
   "metadata": {},
   "source": [
    "<h3> Things to Know About Pandas </h3>\n",
    "\n",
    "<p> To use Pandas, start by importing the package:</p>\n",
    "<pre><code>import pandas as pd</code></pre>\n",
    "<sub>(<code>pd</code> is a common alias for Pandas. It makes writing and calling Pandas functions easier—and from experience, it helps avoid misspellings!)</sub>\n",
    "\n",
    "<p> Key concepts in Pandas:</p>\n",
    "<ul>\n",
    "    <li><strong>DataFrame:</strong> A table of data stored in a 2-dimensional structure, where rows and columns are labeled.</li>\n",
    "    <li><strong>Series:</strong> Each column in a <code>DataFrame</code> is a <code>Series</code>, which is a one-dimensional array-like structure.</li>\n",
    "</ul>\n",
    "\n",
    "<p> You can manipulate and analyze data by applying methods to a <code>DataFrame</code> or a <code>Series</code>. "
   ]
  },
  {
   "cell_type": "markdown",
   "id": "e5848674",
   "metadata": {},
   "source": [
    "<p> <em><strong>Run the line below if working in Jupyter NoteBook or Google CoLab to install the package</strong></em></p>\n",
    "<p><em>just in case</em></p>"
   ]
  },
  {
   "cell_type": "code",
   "execution_count": 12,
   "id": "8a8e4d4d",
   "metadata": {},
   "outputs": [],
   "source": [
    "#$ pip install pandas #delete the # before the $ before running install"
   ]
  },
  {
   "cell_type": "markdown",
   "id": "e8b4be45",
   "metadata": {},
   "source": [
    "<h3>Let's Get Started — and Remember to Import Pandas!</h3>"
   ]
  },
  {
   "cell_type": "code",
   "execution_count": 13,
   "id": "0bcc7c33",
   "metadata": {},
   "outputs": [],
   "source": [
    "import pandas as pd"
   ]
  },
  {
   "cell_type": "markdown",
   "id": "dc06bae2",
   "metadata": {},
   "source": [
    "<h2> Getting Started with Pandas DataFrame </h2>\n",
    "<p>To manually store data in a table, create a <code>DataFrame</code>. When using a Python dictionary of lists, the dictionary keys become the column headers, and the values in each list represent the data for each column of the <code>DataFrame</code>.</p>\n",
    "\n",
    "<h4> What is a DataFrame? </h4>\n",
    "\n",
    "- A 2-dimensional data structure\n",
    "\n",
    "    - Can store multiple data types:\n",
    "\n",
    "        - Strings (text)\n",
    "        - Integers\n",
    "        - Floating point values\n",
    "        - Categorical data\n",
    "\n",
    "<p> Each <strong>column</strong> in a <code>DataFrame</code> is a <code>Series</code> </p>"
   ]
  },
  {
   "cell_type": "markdown",
   "id": "4f458dfd",
   "metadata": {},
   "source": [
    "<h4> Manually creating a <code>DataFrame</code> from scratch:</h4>\n",
    "\n",
    "1. Name the DataFrame.\n",
    "\n",
    "2. Define a dictionary where:\n",
    "\n",
    "    - Each key is a column name.\n",
    "\n",
    "    - Each value is a list of cell values for that column.\n",
    "\n",
    "    - Use <code>{ }</code> curly braces to define a dictionary.\n",
    "\n",
    "    - Use <code>[ ]</code> square brackets to define a list.\n"
   ]
  },
  {
   "cell_type": "markdown",
   "id": "13df3ca5",
   "metadata": {},
   "source": [
    "<h3>structure and syntax </h3>\n",
    "<pre><code>\n",
    "DataFrame_label = ({\n",
    "    \"column1\": [\n",
    "        \"cell 1.1\", \n",
    "        \"cell 1.2\", \n",
    "        \"cell 1.3\"\n",
    "    ],\n",
    "    \"column2 label\": [\n",
    "        \"cell value2.1\", \n",
    "        \"cell value2.2\", \n",
    "        \"cell value2.3\"\n",
    "    ],\n",
    "    \"column3 label\": [\n",
    "        \"cell value3.1\", \n",
    "        \"cell value3.2\", \n",
    "        \"cell value3.3\"\n",
    "    ]\n",
    "})\n",
    "\n",
    "DataFrame_label\n",
    "</code></pre>"
   ]
  },
  {
   "cell_type": "markdown",
   "id": "9c68f8ee",
   "metadata": {},
   "source": [
    "<h3>Quick and Dirty Example</h3>\n",
    "\n",
    "<p>In this example, I'm creating a <code>DataFrame</code> to keep track of attendee counts for the workshops we've hosted.</p>\n",
    "\n",
    "<p>I start by naming the <code>DataFrame</code> as <code>pythonWs_df</code>.</p>\n",
    "\n",
    "<p>Then, I call the function to create the <code>DataFrame</code> using <code>pd.DataFrame()</code>.</p>\n",
    "\n",
    "<p>Inside the parentheses <code>()</code>, I begin creating the dictionary using curly braces <code>{}</code>.</p>\n",
    "\n",
    "<p>For example: <code>({ dictionary })</code>. Next, I define the labels for the columns, like <code>\"Workshops\":</code></p>\n",
    "\n",
    "<p>To add values for each <code>Series</code> (each column), I use square brackets <code>[]</code> to create a list of values.</p>\n",
    "\n",
    "<p>Once that's done, I can run the cell to generate the table.</p>\n"
   ]
  },
  {
   "cell_type": "code",
   "execution_count": 14,
   "id": "65977a1d",
   "metadata": {},
   "outputs": [
    {
     "data": {
      "text/html": [
       "<div>\n",
       "<style scoped>\n",
       "    .dataframe tbody tr th:only-of-type {\n",
       "        vertical-align: middle;\n",
       "    }\n",
       "\n",
       "    .dataframe tbody tr th {\n",
       "        vertical-align: top;\n",
       "    }\n",
       "\n",
       "    .dataframe thead th {\n",
       "        text-align: right;\n",
       "    }\n",
       "</style>\n",
       "<table border=\"1\" class=\"dataframe\">\n",
       "  <thead>\n",
       "    <tr style=\"text-align: right;\">\n",
       "      <th></th>\n",
       "      <th>Workshop</th>\n",
       "      <th>Date</th>\n",
       "      <th>Attendees Numbers</th>\n",
       "    </tr>\n",
       "  </thead>\n",
       "  <tbody>\n",
       "    <tr>\n",
       "      <th>0</th>\n",
       "      <td>Intro to Python Part A</td>\n",
       "      <td>February 2</td>\n",
       "      <td>15.0</td>\n",
       "    </tr>\n",
       "    <tr>\n",
       "      <th>1</th>\n",
       "      <td>Intro to Python Part B</td>\n",
       "      <td>February 26</td>\n",
       "      <td>18.0</td>\n",
       "    </tr>\n",
       "    <tr>\n",
       "      <th>2</th>\n",
       "      <td>Intro to Text Analysis Part A</td>\n",
       "      <td>March 19</td>\n",
       "      <td>22.0</td>\n",
       "    </tr>\n",
       "    <tr>\n",
       "      <th>3</th>\n",
       "      <td>Intro to Text Analysis Part B</td>\n",
       "      <td>April 2</td>\n",
       "      <td>18.0</td>\n",
       "    </tr>\n",
       "    <tr>\n",
       "      <th>4</th>\n",
       "      <td>Tabular Data with Python, Part I:</td>\n",
       "      <td>April 16</td>\n",
       "      <td>NaN</td>\n",
       "    </tr>\n",
       "    <tr>\n",
       "      <th>5</th>\n",
       "      <td>Tabular Data with Python, Part II:</td>\n",
       "      <td>April 28</td>\n",
       "      <td>NaN</td>\n",
       "    </tr>\n",
       "  </tbody>\n",
       "</table>\n",
       "</div>"
      ],
      "text/plain": [
       "                             Workshop         Date  Attendees Numbers\n",
       "0              Intro to Python Part A   February 2               15.0\n",
       "1              Intro to Python Part B  February 26               18.0\n",
       "2       Intro to Text Analysis Part A     March 19               22.0\n",
       "3       Intro to Text Analysis Part B      April 2               18.0\n",
       "4   Tabular Data with Python, Part I:     April 16                NaN\n",
       "5  Tabular Data with Python, Part II:     April 28                NaN"
      ]
     },
     "execution_count": 14,
     "metadata": {},
     "output_type": "execute_result"
    }
   ],
   "source": [
    "pythonWs_df = pd.DataFrame (\n",
    "    { # creating a dictionary with three list of Workshop, Date, and Attendees Numbers which are the column labels \n",
    "        \"Workshop\": [ # the values within the cells are contain in list \n",
    "            \"Intro to Python Part A\",\n",
    "            \"Intro to Python Part B\",\n",
    "            \"Intro to Text Analysis Part A\",\n",
    "            \"Intro to Text Analysis Part B\",\n",
    "            \"Tabular Data with Python, Part I:\",\n",
    "            \"Tabular Data with Python, Part II:\",\n",
    "        ],\n",
    "        \"Date\": [\n",
    "            \"February 2\",\n",
    "            \"February 26\",\n",
    "            \"March 19\", \n",
    "            \"April 2\",\n",
    "            \"April 16\",\n",
    "            \"April 28\",\n",
    "        ],\n",
    "        \"Attendees Numbers\": [\n",
    "            15, \n",
    "            18, \n",
    "            22, \n",
    "            18,\n",
    "            'NaN',\n",
    "            'NaN',\n",
    "        ],\n",
    "    }\n",
    ")\n",
    "\n",
    "# Convert the \"Attendees Numbers\" column to numeric, coercing errors to NaN\n",
    "pythonWs_df[\"Attendees Numbers\"] = pd.to_numeric(pythonWs_df[\"Attendees Numbers\"], errors='coerce')\n",
    "\n",
    "pythonWs_df"
   ]
  },
  {
   "cell_type": "markdown",
   "id": "3afbce90",
   "metadata": {},
   "source": [
    "<h4>How to Explore the DataFrame</h4>\n",
    "\n",
    "<p>Take time to understand your data by using <code>.dtypes</code> to check the data types of each column in the <code>DataFrame</code>.</p>\n",
    "<p>This helps you verify whether columns are stored as strings, integers, floats, or other types—so you can clean or transform them if needed.</p>\n",
    "\n"
   ]
  },
  {
   "cell_type": "code",
   "execution_count": 15,
   "id": "8e9deb43",
   "metadata": {},
   "outputs": [
    {
     "data": {
      "text/plain": [
       "Workshop              object\n",
       "Date                  object\n",
       "Attendees Numbers    float64\n",
       "dtype: object"
      ]
     },
     "execution_count": 15,
     "metadata": {},
     "output_type": "execute_result"
    }
   ],
   "source": [
    "pythonWs_df.dtypes"
   ]
  },
  {
   "cell_type": "markdown",
   "id": "1e948075",
   "metadata": {},
   "source": [
    "<h5> More tools to explore the DataFrame</h5>\n",
    "<ul> \n",
    "<li><code>.info(),</code></li>\n",
    "<li><code>.describe(),</code></li>\n",
    "<li><code>.head()</code></li>\n",
    "</ul>"
   ]
  },
  {
   "cell_type": "markdown",
   "id": "a846b23e",
   "metadata": {},
   "source": [
    "<h5>The <code>.info()</code> Function</h5>\n",
    "<p>The <code>.info()</code> function provides a summary of the structure of a DataFrame.</p>"
   ]
  },
  {
   "cell_type": "code",
   "execution_count": 16,
   "id": "872eca98",
   "metadata": {},
   "outputs": [
    {
     "name": "stdout",
     "output_type": "stream",
     "text": [
      "<class 'pandas.core.frame.DataFrame'>\n",
      "RangeIndex: 6 entries, 0 to 5\n",
      "Data columns (total 3 columns):\n",
      " #   Column             Non-Null Count  Dtype  \n",
      "---  ------             --------------  -----  \n",
      " 0   Workshop           6 non-null      object \n",
      " 1   Date               6 non-null      object \n",
      " 2   Attendees Numbers  4 non-null      float64\n",
      "dtypes: float64(1), object(2)\n",
      "memory usage: 276.0+ bytes\n"
     ]
    }
   ],
   "source": [
    "pythonWs_df.info()"
   ]
  },
  {
   "cell_type": "markdown",
   "id": "4afd512f",
   "metadata": {},
   "source": [
    "<h5>The <code>.describe()</code> Function</h5>\n",
    "<p>The <code>.describe()</code> function provides a descriptive statistical analysis of the DataFrame.</p>"
   ]
  },
  {
   "cell_type": "code",
   "execution_count": 17,
   "id": "f0df1526",
   "metadata": {},
   "outputs": [
    {
     "data": {
      "text/html": [
       "<div>\n",
       "<style scoped>\n",
       "    .dataframe tbody tr th:only-of-type {\n",
       "        vertical-align: middle;\n",
       "    }\n",
       "\n",
       "    .dataframe tbody tr th {\n",
       "        vertical-align: top;\n",
       "    }\n",
       "\n",
       "    .dataframe thead th {\n",
       "        text-align: right;\n",
       "    }\n",
       "</style>\n",
       "<table border=\"1\" class=\"dataframe\">\n",
       "  <thead>\n",
       "    <tr style=\"text-align: right;\">\n",
       "      <th></th>\n",
       "      <th>Attendees Numbers</th>\n",
       "    </tr>\n",
       "  </thead>\n",
       "  <tbody>\n",
       "    <tr>\n",
       "      <th>count</th>\n",
       "      <td>4.000000</td>\n",
       "    </tr>\n",
       "    <tr>\n",
       "      <th>mean</th>\n",
       "      <td>18.250000</td>\n",
       "    </tr>\n",
       "    <tr>\n",
       "      <th>std</th>\n",
       "      <td>2.872281</td>\n",
       "    </tr>\n",
       "    <tr>\n",
       "      <th>min</th>\n",
       "      <td>15.000000</td>\n",
       "    </tr>\n",
       "    <tr>\n",
       "      <th>25%</th>\n",
       "      <td>17.250000</td>\n",
       "    </tr>\n",
       "    <tr>\n",
       "      <th>50%</th>\n",
       "      <td>18.000000</td>\n",
       "    </tr>\n",
       "    <tr>\n",
       "      <th>75%</th>\n",
       "      <td>19.000000</td>\n",
       "    </tr>\n",
       "    <tr>\n",
       "      <th>max</th>\n",
       "      <td>22.000000</td>\n",
       "    </tr>\n",
       "  </tbody>\n",
       "</table>\n",
       "</div>"
      ],
      "text/plain": [
       "       Attendees Numbers\n",
       "count           4.000000\n",
       "mean           18.250000\n",
       "std             2.872281\n",
       "min            15.000000\n",
       "25%            17.250000\n",
       "50%            18.000000\n",
       "75%            19.000000\n",
       "max            22.000000"
      ]
     },
     "execution_count": 17,
     "metadata": {},
     "output_type": "execute_result"
    }
   ],
   "source": [
    "pythonWs_df.describe()"
   ]
  },
  {
   "cell_type": "markdown",
   "id": "3492315a",
   "metadata": {},
   "source": [
    "<h5>The <code>.head()</code> Function</h5>\n",
    "<p>The <code>.head()</code> function returns the first <em> n rows</em></p>\n",
    "<p>The syntax: <code>DataFrame.head(n=5)</code> default is the first five rows.</p>\n",
    "<p>But if you want the <strong>last n rows</strong>"
   ]
  },
  {
   "cell_type": "code",
   "execution_count": 18,
   "id": "16e05d5f",
   "metadata": {},
   "outputs": [
    {
     "data": {
      "text/html": [
       "<div>\n",
       "<style scoped>\n",
       "    .dataframe tbody tr th:only-of-type {\n",
       "        vertical-align: middle;\n",
       "    }\n",
       "\n",
       "    .dataframe tbody tr th {\n",
       "        vertical-align: top;\n",
       "    }\n",
       "\n",
       "    .dataframe thead th {\n",
       "        text-align: right;\n",
       "    }\n",
       "</style>\n",
       "<table border=\"1\" class=\"dataframe\">\n",
       "  <thead>\n",
       "    <tr style=\"text-align: right;\">\n",
       "      <th></th>\n",
       "      <th>Workshop</th>\n",
       "      <th>Date</th>\n",
       "      <th>Attendees Numbers</th>\n",
       "    </tr>\n",
       "  </thead>\n",
       "  <tbody>\n",
       "    <tr>\n",
       "      <th>0</th>\n",
       "      <td>Intro to Python Part A</td>\n",
       "      <td>February 2</td>\n",
       "      <td>15.0</td>\n",
       "    </tr>\n",
       "    <tr>\n",
       "      <th>1</th>\n",
       "      <td>Intro to Python Part B</td>\n",
       "      <td>February 26</td>\n",
       "      <td>18.0</td>\n",
       "    </tr>\n",
       "    <tr>\n",
       "      <th>2</th>\n",
       "      <td>Intro to Text Analysis Part A</td>\n",
       "      <td>March 19</td>\n",
       "      <td>22.0</td>\n",
       "    </tr>\n",
       "    <tr>\n",
       "      <th>3</th>\n",
       "      <td>Intro to Text Analysis Part B</td>\n",
       "      <td>April 2</td>\n",
       "      <td>18.0</td>\n",
       "    </tr>\n",
       "    <tr>\n",
       "      <th>4</th>\n",
       "      <td>Tabular Data with Python, Part I:</td>\n",
       "      <td>April 16</td>\n",
       "      <td>NaN</td>\n",
       "    </tr>\n",
       "  </tbody>\n",
       "</table>\n",
       "</div>"
      ],
      "text/plain": [
       "                            Workshop         Date  Attendees Numbers\n",
       "0             Intro to Python Part A   February 2               15.0\n",
       "1             Intro to Python Part B  February 26               18.0\n",
       "2      Intro to Text Analysis Part A     March 19               22.0\n",
       "3      Intro to Text Analysis Part B      April 2               18.0\n",
       "4  Tabular Data with Python, Part I:     April 16                NaN"
      ]
     },
     "execution_count": 18,
     "metadata": {},
     "output_type": "execute_result"
    }
   ],
   "source": [
    "pythonWs_df.head()"
   ]
  },
  {
   "cell_type": "markdown",
   "id": "c9576876",
   "metadata": {},
   "source": [
    "<h4> Working with Series aka Column values </h4> \n",
    "\n",
    "<p> To call a column use <code>the name of the DataFrame</code>, and use <code> [\"name of column\"]</code> square brackets. "
   ]
  },
  {
   "cell_type": "code",
   "execution_count": 19,
   "id": "1e08a25c",
   "metadata": {},
   "outputs": [
    {
     "data": {
      "text/plain": [
       "np.float64(22.0)"
      ]
     },
     "execution_count": 19,
     "metadata": {},
     "output_type": "execute_result"
    }
   ],
   "source": [
    "# Find the maximum value in the column\n",
    "max_attendees = pythonWs_df[\"Attendees Numbers\"].max()\n",
    "max_attendees"
   ]
  },
  {
   "cell_type": "markdown",
   "id": "ef08fa3c",
   "metadata": {},
   "source": [
    "<h2> How to read and write tabular data? </h2>"
   ]
  },
  {
   "cell_type": "markdown",
   "id": "2921dc0d",
   "metadata": {},
   "source": [
    "<h4>"
   ]
  }
 ],
 "metadata": {
  "kernelspec": {
   "display_name": ".pd",
   "language": "python",
   "name": "python3"
  },
  "language_info": {
   "codemirror_mode": {
    "name": "ipython",
    "version": 3
   },
   "file_extension": ".py",
   "mimetype": "text/x-python",
   "name": "python",
   "nbconvert_exporter": "python",
   "pygments_lexer": "ipython3",
   "version": "3.11.11"
  }
 },
 "nbformat": 4,
 "nbformat_minor": 5
}
